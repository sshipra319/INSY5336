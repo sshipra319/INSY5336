{
 "cells": [
  {
   "cell_type": "markdown",
   "metadata": {},
   "source": [
    "Problem 1: \n",
    "1) Code takes input from user.\n",
    "2) Concatenate the 2 strings and compare it with the third string.\n",
    "3) Check if concatenated string is equal to third string if not then reverse the order of the string and again comapre the strings.\n",
    "4) Prints the message if strings are equal in both cases else prints not equal."
   ]
  },
  {
   "cell_type": "code",
   "execution_count": null,
   "metadata": {},
   "outputs": [],
   "source": [
    "string1 = input(\"Enter string1: \")      #user input\n",
    "string2 = input(\"Enter string2: \")\n",
    "string3 = input(\"Enter string3: \")\n",
    "if (string1+string2) == string3:        #concatenate 1st & 2nd string and check for equality with 3rd string\n",
    "    print(\"They are equal\")\n",
    "elif (string2+string1) == string3:      #concatenate 2nd & 1st string and check for equality with 3rd string\n",
    "    print(\"They are also equal\")\n",
    "else:                                   #if nothing matches this gets executed.\n",
    "    print(\"They are not equal\")"
   ]
  },
  {
   "cell_type": "markdown",
   "metadata": {},
   "source": [
    "Problem 2: \n",
    "1) Code asks to input 3 or 4 value other values prints invalid input.\n",
    "2) If entered 3 will run the code for val == 3 and if 4 then run the code for val == 4.\n",
    "3) Cretes the list of the entered values, find the length of the list and sort the list. Sorting of list is done to find the median.\n",
    "4) Maximum and minimum values are calculated by using the min and max inbuilt function. The average, min, and max values are calulated in both cases.\n",
    "5) Median of 3 integers are found by sorting and selecting the middle number from the list.\n",
    "6) Median of 4 integers are calculated by sorting and then selecting the middle two terms and then calculating the mean of the numbers. "
   ]
  },
  {
   "cell_type": "code",
   "execution_count": null,
   "metadata": {},
   "outputs": [],
   "source": [
    "def check():                                                #check function to check for integer value\n",
    "    val1 = input(\"Please enter an integer: \")\n",
    "    while(True):\n",
    "        try:                                                #if value is integer then it will return the value\n",
    "            s = int(val1)\n",
    "            return s\n",
    "        except:\n",
    "            print(\"You did not enter an integer.\")          #if not valid integer value will print an error message\n",
    "            val1 = input(\"Please enter an integer: \")\n",
    "\n",
    "\n",
    "val = input(\"Enter set of 3 or 4 integers: \")               #ask for the number of values to be entered\n",
    "if val == '3':                                              \n",
    "    x1 = check()                                            #check function use to check for valid integer value\n",
    "    x2 = check()\n",
    "    x3 = check()\n",
    "    num_lst1 = [x1, x2, x3]                                 #created the list of the entered numbers\n",
    "    n1 = len(num_lst1)                                      #length of the list\n",
    "    num_lst1.sort()                                         #sorted the list to find the median\n",
    "    Add = x1 + x2 + x3                                      #sum of three number\n",
    "    Avg = round(Add/n1)                                     #average of numbers is calculated then it is rounded\n",
    "    print(\"The average of three numbers is: \", Avg)\n",
    "    mx = max(num_lst1)                                      #inbuilt function to find the maximum value\n",
    "    print(\"The maximum of the three numbers is: \", mx)\n",
    "    mn = min(num_lst1)                                      #inbuilt function to find the minimum value\n",
    "    print(\"The minimum of the three numbers is: \", mn)\n",
    "    median = num_lst1[n1//2]\n",
    "    print(\"The median of the three numbers is: \", median)\n",
    "elif val == '4':\n",
    "    x1 = check()\n",
    "    x2 = check()\n",
    "    x3 = check()\n",
    "    x4 = check()\n",
    "    num_lst = [x1, x2, x3, x4]                              #created the list of the entered numbers\n",
    "    n = len(num_lst)                                        #length of the list\n",
    "    num_lst.sort()                                          #sorted the list to find the median\n",
    "    Add = x1 + x2 + x3 + x4                                 #sum of three number\n",
    "    Avg = round(Add/n)                                      #average of numbers is calculated then it is rounded\n",
    "    print(\"The average of four numbers is: \", Avg)\n",
    "    mx = max(num_lst)                                       #inbuilt function to find the maximum value\n",
    "    print(\"The maximum of the four numbers is: \", mx)\n",
    "    mn = min(num_lst)                                       #inbuilt function to find the minimum value\n",
    "    print(\"The minimum of the four numbers is: \", mn)\n",
    "    median1 = num_lst[n//2]                                 #as the list contains even number of elements so find\n",
    "    median2 = num_lst[n//2 - 1]                             #the middle two elements of the list\n",
    "    median = (median1 + median2)/2                      #average of the middle two elements of the list gives the median\n",
    "    print(\"The median of the four numbers is: \", median)\n",
    "else:                                                       #error message if number is not 3 or 4.\n",
    "    print(\"Invalid input\")\n",
    "    "
   ]
  },
  {
   "cell_type": "markdown",
   "metadata": {},
   "source": [
    "Problem 3:\n",
    "1) Code asks for user input and then check for positive integer using the check function.\n",
    "2) Verifies for neither prime nor composite condition.\n",
    "3) If above case does not verify then checks for a prime or composite number from the below code.\n"
   ]
  },
  {
   "cell_type": "code",
   "execution_count": null,
   "metadata": {},
   "outputs": [],
   "source": [
    "def check():                                                         #check function to check for integer value\n",
    "    val1 = input(\"Enter positive integer: \")\n",
    "    while(True):\n",
    "        try:                                                         #if value is integer then it will return the value\n",
    "            s = int(val1)\n",
    "            if s >= 0:                                                #condition to check for negative number\n",
    "                return s\n",
    "            else:                                                    #if number if greater than 0 its positive \n",
    "                print(\"You did not enter positive integer.\")         #otherwise its negative number\n",
    "                val1 = input(\"Enter positive integer: \")\n",
    "        except:\n",
    "            print(\"You did not enter positive integer.\")              #if not valid integer value will print \n",
    "            val1 = input(\"Enter positive integer: \")                  #an error message\n",
    "        \n",
    "val = check()\n",
    "if val == 0 or val == 1:                                            #check if val is 1 or 0\n",
    "    print(\"It is neither prime nor composite.\")\n",
    "else:\n",
    "    for value in range(2, val):                           \n",
    "        if val % value == 0:                                        # check for prime number or not\n",
    "            print(\"It is a composite.\")\n",
    "            break\n",
    "        else:\n",
    "            print(\"It is a prime.\")\n",
    "            break"
   ]
  },
  {
   "cell_type": "markdown",
   "metadata": {},
   "source": [
    "Problem 4:\n",
    "1) Asks for user input and check for valid integer value by using the check function.\n",
    "2) Define a smart division function, 2 integer values are entered.\n",
    "3) Returns the integer value if the result is an integer and float if result is float."
   ]
  },
  {
   "cell_type": "code",
   "execution_count": null,
   "metadata": {},
   "outputs": [],
   "source": [
    "def check():                                                #check function to check for integer value\n",
    "    val = input(\"Please enter an integer: \")\n",
    "    while(True):\n",
    "        try:                                                #if value is integer then it will return the value\n",
    "            s = int(val)\n",
    "            return s\n",
    "        except:\n",
    "            print(\"You did not enter an integer.\")          #if not valid integer value will print an error message\n",
    "            val = input(\"Please enter an integer: \")            \n"
   ]
  },
  {
   "cell_type": "code",
   "execution_count": null,
   "metadata": {},
   "outputs": [],
   "source": [
    "check()"
   ]
  },
  {
   "cell_type": "code",
   "execution_count": null,
   "metadata": {},
   "outputs": [],
   "source": [
    "def smartDivision():\n",
    "    n1 = check()                       #check for valid input\n",
    "    n2 = check()\n",
    "    if n1 % n2 == 0:                   #divide the numbers and return integer value if result is integer.\n",
    "        return int(n1 / n2)\n",
    "    else:\n",
    "        return n1 / n2\n"
   ]
  },
  {
   "cell_type": "code",
   "execution_count": null,
   "metadata": {},
   "outputs": [],
   "source": [
    "smartDivision()"
   ]
  },
  {
   "cell_type": "markdown",
   "metadata": {},
   "source": [
    "Problem 5:\n",
    "1) Code asks for user input and accepts ineteger of float value that is checked using the check function.\n",
    "2) Corners of the rectangle values are added and user input is checked for valid value.\n",
    "3) The minimum and maximum value is found using the min max functions for both x and y value.\n",
    "4) Its checks whether the entered x and y value lies between the corners of the rectangle by checking whether the value lies between the min and max value of x and y. \n",
    "5) If condition satisfies then prints true otherwise prints false.\n",
    "6) Asks the user to continue or not, check if want to continue then call the function otherwise print good bye."
   ]
  },
  {
   "cell_type": "code",
   "execution_count": null,
   "metadata": {},
   "outputs": [],
   "source": [
    "def check():                                                #check function to check for integer value\n",
    "    val = input(\"Please enter an integer or a float: \")\n",
    "    while(True):\n",
    "        try:                                                #if value is integer then it will return the value\n",
    "            s = float(val)\n",
    "            return s\n",
    "        except:\n",
    "            print(\"You did not enter an integer or a float.\")   #if not valid integer value will print an error message\n",
    "            val = input(\"Please enter an integer or a float: \") \n",
    "\n",
    "def rectCorner():\n",
    "    x1 = check()\n",
    "    y1 = check()                                    #check for valid input values\n",
    "    x2 = check()\n",
    "    y2 = check()\n",
    "    x = check()\n",
    "    y = check()\n",
    "    x_max = max(x1, x2)\n",
    "    x_min = min(x1, x2)                              #using inbuilt functions find the min and max value \n",
    "    y_max = max(y1, y2)\n",
    "    y_min = min(y1, y2)\n",
    "    if (x_min < x < x_max) and (y_min < y < y_max):    #check whether value lies in the rectangle\n",
    "        print(\"True\") \n",
    "    else: \n",
    "        print(\"False\")\n",
    "    \n",
    "    num = input(\"Do you want to continue?\")            #ask if they want to continue\n",
    "    if num == 'Y' or num == 'y':\n",
    "        rectCorner()                                   #want to continue then again run the code\n",
    "    else:\n",
    "        print(\"GoodBye!\")                              #don't want to continue then print goodbye"
   ]
  },
  {
   "cell_type": "code",
   "execution_count": null,
   "metadata": {},
   "outputs": [],
   "source": [
    "rectCorner()"
   ]
  }
 ],
 "metadata": {
  "kernelspec": {
   "display_name": "Python 3",
   "language": "python",
   "name": "python3"
  },
  "language_info": {
   "codemirror_mode": {
    "name": "ipython",
    "version": 3
   },
   "file_extension": ".py",
   "mimetype": "text/x-python",
   "name": "python",
   "nbconvert_exporter": "python",
   "pygments_lexer": "ipython3",
   "version": "3.7.3"
  }
 },
 "nbformat": 4,
 "nbformat_minor": 2
}
