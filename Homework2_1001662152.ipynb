{
 "cells": [
  {
   "cell_type": "markdown",
   "metadata": {},
   "source": [
    "Problem 1: \n",
    "1) Define a function and user input a sentence with 'not....bad'.\n",
    "2)Check the positions of not and bad keywords and replace it with a positive word good.\n",
    "3) Print the sentence with positive keyword good."
   ]
  },
  {
   "cell_type": "code",
   "execution_count": 8,
   "metadata": {},
   "outputs": [],
   "source": [
    "def positivity_generator():\n",
    "    inp = input(\"Please enter a sentence with 'not....bad': \")      #user input\n",
    "    inp1 = inp.lower()                                              #change the user input in lower case.\n",
    "    not_positions = inp1.find('not')                                # find the position of 'not' keyword in sentence.\n",
    "    bad_positions = inp1.find('bad')                                # find the position of 'bad' keyword in sentence.\n",
    "    if not_positions == -1 or bad_positions == -1:                  # if 'not' and 'bad' keywords are found in sentence\n",
    "        print(\"The input cannot generate positivity.\")              # the print this message.\n",
    "    elif not_positions < bad_positions:                              # if not found before bad then replace the whole \n",
    "        print(inp1[:not_positions] + \"good\" + inp1[bad_positions + 3:]) #sentence from not to bad with good.\n",
    "    else:                                                            #in all other conditions it says invalid input.\n",
    "        print(\"The input is not valid.\")"
   ]
  },
  {
   "cell_type": "code",
   "execution_count": 7,
   "metadata": {},
   "outputs": [
    {
     "name": "stdout",
     "output_type": "stream",
     "text": [
      "Please enter a sentence with 'not....bad': the sentence bad not\n",
      "The input is not valid.\n"
     ]
    }
   ],
   "source": [
    "positivity_generator()"
   ]
  },
  {
   "cell_type": "markdown",
   "metadata": {},
   "source": [
    "Problem 2:\n",
    "1) Define a function, user input a sentence and the single letter to be counted. Change both sentence and letter to lower case and replace the commas of sentences with space.\n",
    "2)Check for the condition that the letter entered is single by checking the length of letter is equal to 1 or not.\n",
    "3) Split the sentence and set the count to 0. Every word of the sentence is traversed using a for loop to see which word ends with the entered letter.\n",
    "4) The last element of each word of a sentence is compared with the single letter entered and everytime it is found then the count is incremented by 1."
   ]
  },
  {
   "cell_type": "code",
   "execution_count": null,
   "metadata": {},
   "outputs": [],
   "source": [
    "def count_lastletter():\n",
    "    s1 = input(\"Please enter a sentence: \")                      # sentence user input\n",
    "    c1 = input(\"Please enter single letter to be counted: \")     # single letter user input\n",
    "    c2 = c1.lower()                                              # changing sentence and letter to lower case.\n",
    "    s2 = s1.lower()\n",
    "    s2 = s2.replace(\",\",\" \")                                     # replace the commas in sentence with empty spaces.\n",
    "    while(True):\n",
    "        if len(c2) != 1:                                         # check the user input entered is a single letter.\n",
    "            print(\"You did not enter single letter.\")\n",
    "            c2 = input(\"Please enter single letter: \")\n",
    "        else:\n",
    "            break\n",
    "    \n",
    "    sentence = s2.split()                                       # split the sentence.\n",
    "    count = 0                                                   # set count to 0.\n",
    "    for s in sentence:                                          # each word of the sentence is traversed using loop.\n",
    "        if s[-1] == c2:                  # checking the last letter of the word in sentence = to single letter entered.\n",
    "           count = count + 1                                    # if found then the count is incremented by 1.\n",
    "    \n",
    "    print(count, \"words ends with letter\", c2, \"in this sentence.\")  # print the count.\n",
    "    "
   ]
  },
  {
   "cell_type": "code",
   "execution_count": null,
   "metadata": {},
   "outputs": [],
   "source": [
    "count_lastletter()"
   ]
  },
  {
   "cell_type": "markdown",
   "metadata": {},
   "source": [
    "Problem 3: \n",
    "1) Three functions are defined to remove the odd, even and nth letter from a string.\n",
    "2) User input the sentence and the character position to be removed from the string.\n",
    "3) Check that the entered choice is either even, odd or the n number using try and catch.\n",
    "4) If the entered choice is odd then the odd function is called, if entered choice is even then even function is called and if entered choice is number then nth function is called."
   ]
  },
  {
   "cell_type": "code",
   "execution_count": null,
   "metadata": {},
   "outputs": [],
   "source": [
    "def remove_oddString(string):                   # function to remove odd characters from string.\n",
    "    result = \"\"                                 \n",
    "    for s in range(len(string)):                # traversing through range of string.\n",
    "        if (s + 1) % 2 == 0:                # check if mode of index+1/2 value is 0 then index value char is removed.\n",
    "            result = result + string[s]     # empty result variable is assigned the index string value.\n",
    "    return result\n",
    "\n",
    "def remove_evenString(string):                # function to remove even characters from string.\n",
    "    result = \"\"\n",
    "    for s in range(len(string)):              # traversing through range of string.\n",
    "        if (s + 1) % 2 != 0:                # check if mode of index/2 value is not 0 then index value char is removed.\n",
    "            result = result + string[s]       # empty result variable is assigned the index string value.\n",
    "    return result\n",
    "\n",
    "def remove_nString(string, n):               # function to remove nth characters from string.\n",
    "    result = \"\"\n",
    "    for s in range(len(string)):             # traversing through range of string.\n",
    "        if (s + 1) % n != 0:            # check if mode of index/n value is not 0 then index value char is removed.\n",
    "            result = result + string[s]   # empty result variable is assigned the index string value.\n",
    "    return result"
   ]
  },
  {
   "cell_type": "code",
   "execution_count": null,
   "metadata": {},
   "outputs": [],
   "source": [
    "string1 = input(\"Please enter string: \")                #user input string.\n",
    "choice = input(\"Please enter odd, even or any nth letter that you want to remove: \")  #enter value to be removed.\n",
    "while(True):                                        #check valid value to be entered to remove characters from string.\n",
    "    try:\n",
    "        if choice == \"odd\":                          # if entered choice is odd then oddString function is called.\n",
    "            print(remove_oddString(string1))\n",
    "            break\n",
    "        elif choice == \"even\":                       # if entered choice is even then evenString function is called.\n",
    "            print(remove_evenString(string1))\n",
    "            break\n",
    "        else:                                        # if entered choice is n then nString function is called.\n",
    "            print(remove_nString(string1, int(choice)))\n",
    "            break\n",
    "    except:\n",
    "        print(\"You did not enter correct choice, please try again. \")   #if entered choice is not valid then it prints\n",
    "        choice = input(\"Please enter odd, even or any nth letter that you want to remove: \")"
   ]
  },
  {
   "cell_type": "markdown",
   "metadata": {},
   "source": [
    "Problem 4:\n",
    "1) Open file mbox.txt and append the each line in senders list.\n",
    "2) Four level lists are created. Using for loop senders list is traversed.\n",
    "3) If umich.edu is found then all those values are appened level1 list, with .edu is appended in level2 list, with .ac is appended in level3 list and with all other values goes to level4 list.\n",
    "4) Then each value is traversed and level wise the vaues are printed. "
   ]
  },
  {
   "cell_type": "code",
   "execution_count": null,
   "metadata": {},
   "outputs": [],
   "source": [
    "fhandle = open(\"mbox.txt\")                      # text file is opened.\n",
    "senders = []                                    # empty senders list created\n",
    "for line in fhandle:                            # each line of opened file is traversed\n",
    "    if not line.startswith(\"From:\"):\n",
    "        continue\n",
    "    senders.append(line)                        # with from words the lines are appended in senders list\n",
    "\n",
    "level1 = []\n",
    "level2 = []                                        # four empty lists are created for ecah level.\n",
    "level3 = []\n",
    "level4 = []\n",
    "for s in senders:                                  # each value is senders list is traversed using loop\n",
    "    if \"umich.edu\" in s:                    # 'umich.edu' value found then appened to level1 list           \n",
    "        edu_position = s.find(\"edu\")         #leaving the first 6 positions which contains from till the edu                     \n",
    "        level1.append(s[6:edu_position+3])  # position with +3 which are number of characters in edu.\n",
    "    elif \".edu\" in s:                        # '.edu' value found then appened to level2 list\n",
    "        edu_position = s.find(\"edu\")         #leaving the first 6 positions which contains from till the edu \n",
    "        level2.append(s[6:edu_position+3])   # position with +3 which are number of characters in edu.       \n",
    "    elif \".ac\" in s:                         # '.ac' value found then appened to level3 list\n",
    "        ac_position = s.find(\"ac.\")    #leaving the first 6 positions which contains from till the ac\n",
    "        level3.append(s[6:ac_position+5]) #position with +5 which are number of characters with ac and more extension \n",
    "    else:\n",
    "        at_position = s.find(\"@\")                   # '@' value found then appened to level4 list\n",
    "        sp_position = s.find(\" \",at_position)       #leaving the first 6 positions which contains from\n",
    "        level4.append(s[6:sp_position])\n",
    "\n",
    "print(\"Level 1 emails are: \")\n",
    "for l in level1:                                     # level1 traversed using loop to print the values for level1\n",
    "    print(l)\n",
    "print(\"Level 2 emails are: \")\n",
    "for l in level2:                                    # level2 traversed using loop to print the values for level2\n",
    "    print(l)\n",
    "print(\"Level 3 emails are: \")\n",
    "for l in level3:                                    # level3 traversed using loop to print the values for level3\n",
    "    print(l)\n",
    "print(\"Level 4 emails are: \")\n",
    "for l in level4:                                    # level4 traversed using loop to print the values for level4\n",
    "    print(l)"
   ]
  },
  {
   "cell_type": "markdown",
   "metadata": {},
   "source": [
    "Problem 5:\n",
    "1) Create a function and then ask user to input the number of elements to be entered in the lists.\n",
    "2) Check the enterd value is an integer.\n",
    "3) Create two empty lists list1 and list2.\n",
    "4) Using loop the range of list is traveresed and value of list is user input which is then appened into the created lists.\n",
    "5) Then using two loops each value of the two lists is traversed and then the values of each are concatenated together. "
   ]
  },
  {
   "cell_type": "code",
   "execution_count": 9,
   "metadata": {},
   "outputs": [],
   "source": [
    "def combinations():\n",
    "    inp = input(\"How many elements do you want to enter in your 2 lists? \")  # number of elements to be entered in list\n",
    "    while(True):\n",
    "        try:\n",
    "            int(inp)                           # check the entered value is an integer\n",
    "            break\n",
    "        except:\n",
    "            print(\"Please enter an integer. \")\n",
    "            \n",
    "    List1 = []                                  # two empty lists are created\n",
    "    List2 = []                                         \n",
    "    for s in range(int(inp)):                   \n",
    "        l1 = input(\"Enter an element for first list: \")  #using loop for the user input of number of elements the user \n",
    "        List1.append(l1)                              #input each value and those values are appened in created list.\n",
    "    for s in range(int(inp)):\n",
    "        l2 = input(\"Enter an element for second list: \")\n",
    "        List2.append(l2)\n",
    "    for i in range(int(inp)):                   #using the two nested loops each value of list1 is concatenated with\n",
    "        for j in range(int(inp)):               # each value of list2.\n",
    "            print(List1[i]+List2[j])"
   ]
  },
  {
   "cell_type": "code",
   "execution_count": null,
   "metadata": {},
   "outputs": [],
   "source": [
    "combinations()"
   ]
  },
  {
   "cell_type": "code",
   "execution_count": null,
   "metadata": {},
   "outputs": [],
   "source": []
  }
 ],
 "metadata": {
  "kernelspec": {
   "display_name": "Python 3",
   "language": "python",
   "name": "python3"
  },
  "language_info": {
   "codemirror_mode": {
    "name": "ipython",
    "version": 3
   },
   "file_extension": ".py",
   "mimetype": "text/x-python",
   "name": "python",
   "nbconvert_exporter": "python",
   "pygments_lexer": "ipython3",
   "version": "3.7.3"
  }
 },
 "nbformat": 4,
 "nbformat_minor": 2
}
