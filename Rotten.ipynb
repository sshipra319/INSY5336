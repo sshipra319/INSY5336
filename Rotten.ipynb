{
 "cells": [
  {
   "cell_type": "code",
   "execution_count": 10,
   "metadata": {},
   "outputs": [
    {
     "name": "stderr",
     "output_type": "stream",
     "text": [
      "[nltk_data] Downloading package stopwords to\n",
      "[nltk_data]     C:\\Users\\leosh\\AppData\\Roaming\\nltk_data...\n",
      "[nltk_data]   Package stopwords is already up-to-date!\n"
     ]
    }
   ],
   "source": [
    "import urllib.request, urllib.parse, urllib.error\n",
    "from bs4 import BeautifulSoup\n",
    "import ssl\n",
    "import requests\n",
    "import re\n",
    "import nltk\n",
    "from nltk.corpus import stopwords\n",
    "nltk.download('stopwords')\n",
    "from nltk.tokenize import word_tokenize\n",
    "import string\n",
    "import csv\n",
    "\n",
    "# Ignore SSL certificate errors\n",
    "ctx = ssl.create_default_context()\n",
    "ctx.check_hostname = False\n",
    "ctx.verify_mode = ssl.CERT_NONE\n",
    "\n",
    "headers = {'User-Agent': 'Mozilla/5.0 (Macintosh; Intel Mac OS X 10_13_6) AppleWebKit/537.36 (KHTML, like Gecko) Chrome/70.0.3538.77 Safari/537.36'}"
   ]
  },
  {
   "cell_type": "code",
   "execution_count": 11,
   "metadata": {},
   "outputs": [],
   "source": [
    "url = 'https://www.rottentomatoes.com/top/bestofrt/'\n",
    "page = requests.get(url, headers = headers)\n",
    "soup = BeautifulSoup(page.content, \"html.parser\")"
   ]
  },
  {
   "cell_type": "code",
   "execution_count": 12,
   "metadata": {},
   "outputs": [
    {
     "name": "stdout",
     "output_type": "stream",
     "text": [
      "<class 'bs4.element.ResultSet'>\n"
     ]
    }
   ],
   "source": [
    "container = soup.find('table', class_ = 'table')\n",
    "container = container.find_all('a', class_ = 'unstyled articleLink')\n",
    "print(type(container))"
   ]
  },
  {
   "cell_type": "code",
   "execution_count": 13,
   "metadata": {},
   "outputs": [
    {
     "data": {
      "text/plain": [
       "100"
      ]
     },
     "execution_count": 13,
     "metadata": {},
     "output_type": "execute_result"
    }
   ],
   "source": [
    "len(container)"
   ]
  },
  {
   "cell_type": "code",
   "execution_count": 14,
   "metadata": {},
   "outputs": [
    {
     "name": "stdout",
     "output_type": "stream",
     "text": [
      "['Black Panther (2018)', 'Avengers: Endgame (2019)', 'Us (2019)', 'Toy Story 4 (2019)', 'Lady Bird (2017)', 'Citizen Kane (1941)', 'Mission: Impossible - Fallout (2018)', 'The Wizard of Oz (1939)', 'BlacKkKlansman (2018)', 'Get Out (2017)', 'The Irishman (2019)', 'Mad Max: Fury Road (2015)', 'Spider-Man: Into the Spider-Verse (2018)', 'Casablanca (1942)', 'Moonlight (2016)', 'A Star Is Born (2018)', 'Wonder Woman (2017)', 'Dunkirk (2017)', 'Inside Out (2015)', 'The Farewell (2019)', 'A Quiet Place (2018)', 'Modern Times (1936)', 'Eighth Grade (2018)', 'It Happened One Night (1934)', 'Booksmart (2019)', 'A Night at the Opera (1935)', 'Roma (2018)', 'The Third Man (1949)', 'Coco (2017)', 'Thor: Ragnarok (2017)', 'The Shape of Water (2017)', 'Selma (2014)', 'Spotlight (2015)', 'The Godfather (1972)', 'La Grande illusion (Grand Illusion) (1938)', 'Arrival (2016)', \"Singin' in the Rain (1952)\", 'Snow White and the Seven Dwarfs (1937)', 'Logan (2017)', 'The Cabinet of Dr. Caligari (Das Cabinet des Dr. Caligari) (1920)', 'Double Indemnity (1944)', 'The Favourite (2018)', 'The Big Sick (2017)', 'Spider-Man: Far From Home (2019)', 'E.T. The Extra-Terrestrial (1982)', 'Star Wars: The Last Jedi (2017)', 'All About Eve (1950)', 'Shadow of a Doubt (1943)', 'The Kid (1921)', 'Paddington 2 (2018)']\n"
     ]
    }
   ],
   "source": [
    "movie_names = []\n",
    "movies = container[0:50] #here we get the top 50 movies we want\n",
    "for movie in movies:\n",
    "    name = movie.text\n",
    "    name_sp = name.strip()\n",
    "    movie_names.append(name_sp)\n",
    "print(movie_names)"
   ]
  },
  {
   "cell_type": "code",
   "execution_count": 15,
   "metadata": {},
   "outputs": [
    {
     "name": "stdout",
     "output_type": "stream",
     "text": [
      "['/m/black_panther_2018', '/m/avengers_endgame', '/m/us_2019', '/m/toy_story_4', '/m/lady_bird', '/m/citizen_kane', '/m/mission_impossible_fallout', '/m/the_wizard_of_oz_1939', '/m/blackkklansman', '/m/get_out', '/m/the_irishman', '/m/mad_max_fury_road', '/m/spider_man_into_the_spider_verse', '/m/1003707-casablanca', '/m/moonlight_2016', '/m/a_star_is_born_2018', '/m/wonder_woman_2017', '/m/dunkirk_2017', '/m/inside_out_2015', '/m/the_farewell_2019', '/m/a_quiet_place_2018', '/m/modern_times', '/m/eighth_grade', '/m/it_happened_one_night', '/m/booksmart', '/m/1015002-night_at_the_opera', '/m/roma_2018', '/m/the_third_man', '/m/coco_2017', '/m/thor_ragnarok_2017', '/m/the_shape_of_water_2017', '/m/selma', '/m/spotlight_2015', '/m/godfather', '/m/la_grande_illusion', '/m/arrival_2016', '/m/singin_in_the_rain', '/m/1048445-snow_white_and_the_seven_dwarfs', '/m/logan_2017', '/m/the_cabinet_of_dr_caligari', '/m/double_indemnity', '/m/the_favourite_2018', '/m/the_big_sick', '/m/spider_man_far_from_home', '/m/et_the_extraterrestrial', '/m/star_wars_the_last_jedi', '/m/1000626-all_about_eve', '/m/1018688-shadow_of_a_doubt', '/m/1052609-kid', '/m/paddington_2']\n"
     ]
    }
   ],
   "source": [
    "movie_links = []\n",
    "movies = container[:50]\n",
    "for movie in movies:\n",
    "    #tag = movie\n",
    "    link = movie.get('href', None)\n",
    "    movie_links.append(link)    \n",
    "print(movie_links)"
   ]
  },
  {
   "cell_type": "code",
   "execution_count": 16,
   "metadata": {},
   "outputs": [
    {
     "name": "stdout",
     "output_type": "stream",
     "text": [
      "['https://www.rottentomatoes.com/m/black_panther_2018', 'https://www.rottentomatoes.com/m/avengers_endgame', 'https://www.rottentomatoes.com/m/us_2019', 'https://www.rottentomatoes.com/m/toy_story_4', 'https://www.rottentomatoes.com/m/lady_bird', 'https://www.rottentomatoes.com/m/citizen_kane', 'https://www.rottentomatoes.com/m/mission_impossible_fallout', 'https://www.rottentomatoes.com/m/the_wizard_of_oz_1939', 'https://www.rottentomatoes.com/m/blackkklansman', 'https://www.rottentomatoes.com/m/get_out', 'https://www.rottentomatoes.com/m/the_irishman', 'https://www.rottentomatoes.com/m/mad_max_fury_road', 'https://www.rottentomatoes.com/m/spider_man_into_the_spider_verse', 'https://www.rottentomatoes.com/m/1003707-casablanca', 'https://www.rottentomatoes.com/m/moonlight_2016', 'https://www.rottentomatoes.com/m/a_star_is_born_2018', 'https://www.rottentomatoes.com/m/wonder_woman_2017', 'https://www.rottentomatoes.com/m/dunkirk_2017', 'https://www.rottentomatoes.com/m/inside_out_2015', 'https://www.rottentomatoes.com/m/the_farewell_2019', 'https://www.rottentomatoes.com/m/a_quiet_place_2018', 'https://www.rottentomatoes.com/m/modern_times', 'https://www.rottentomatoes.com/m/eighth_grade', 'https://www.rottentomatoes.com/m/it_happened_one_night', 'https://www.rottentomatoes.com/m/booksmart', 'https://www.rottentomatoes.com/m/1015002-night_at_the_opera', 'https://www.rottentomatoes.com/m/roma_2018', 'https://www.rottentomatoes.com/m/the_third_man', 'https://www.rottentomatoes.com/m/coco_2017', 'https://www.rottentomatoes.com/m/thor_ragnarok_2017', 'https://www.rottentomatoes.com/m/the_shape_of_water_2017', 'https://www.rottentomatoes.com/m/selma', 'https://www.rottentomatoes.com/m/spotlight_2015', 'https://www.rottentomatoes.com/m/godfather', 'https://www.rottentomatoes.com/m/la_grande_illusion', 'https://www.rottentomatoes.com/m/arrival_2016', 'https://www.rottentomatoes.com/m/singin_in_the_rain', 'https://www.rottentomatoes.com/m/1048445-snow_white_and_the_seven_dwarfs', 'https://www.rottentomatoes.com/m/logan_2017', 'https://www.rottentomatoes.com/m/the_cabinet_of_dr_caligari', 'https://www.rottentomatoes.com/m/double_indemnity', 'https://www.rottentomatoes.com/m/the_favourite_2018', 'https://www.rottentomatoes.com/m/the_big_sick', 'https://www.rottentomatoes.com/m/spider_man_far_from_home', 'https://www.rottentomatoes.com/m/et_the_extraterrestrial', 'https://www.rottentomatoes.com/m/star_wars_the_last_jedi', 'https://www.rottentomatoes.com/m/1000626-all_about_eve', 'https://www.rottentomatoes.com/m/1018688-shadow_of_a_doubt', 'https://www.rottentomatoes.com/m/1052609-kid', 'https://www.rottentomatoes.com/m/paddington_2']\n"
     ]
    }
   ],
   "source": [
    "for i in range(len(movie_links)):\n",
    "    movie_links[i] = 'https://www.rottentomatoes.com'+ movie_links[i]\n",
    "print(movie_links)"
   ]
  },
  {
   "cell_type": "code",
   "execution_count": 17,
   "metadata": {},
   "outputs": [
    {
     "name": "stdout",
     "output_type": "stream",
     "text": [
      "[['fantasy', 'action', 'adventure'], ['fantasy', 'adventure', 'scifi', 'action'], ['horror', 'mysteryandthriller'], ['fantasy', 'kidsandfamily', 'animation', 'adventure', 'comedy'], ['drama', 'comedy'], ['drama'], ['adventure', 'mysteryandthriller', 'action'], ['musical', 'kidsandfamily', 'fantasy'], ['drama', 'comedy', 'crime'], ['horror', 'mysteryandthriller', 'comedy'], ['drama', 'crime'], ['adventure', 'action'], ['fantasy', 'comedy', 'kidsandfamily', 'animation', 'adventure', 'action'], ['drama'], ['drama'], ['drama', 'music', 'romance'], ['adventure', 'action', 'fantasy'], ['drama', 'war', 'history'], ['comedy', 'fantasy', 'kidsandfamily', 'animation'], ['drama', 'comedy'], ['horror', 'mysteryandthriller'], ['comedy'], ['drama', 'comedy'], ['romance'], ['comedy'], ['comedy'], ['drama'], ['mysteryandthriller'], ['music', 'kidsandfamily', 'animation', 'adventure', 'comedy'], ['fantasy', 'comedy', 'scifi', 'adventure', 'action'], ['fantasy', 'romance'], ['drama', 'history'], ['drama'], ['drama', 'crime'], ['drama', 'war'], ['drama', 'scifi', 'mysteryandthriller'], ['comedy', 'musical'], ['fantasy', 'animation', 'kidsandfamily'], ['fantasy', 'adventure', 'action'], ['horror'], ['drama', 'crime'], ['drama', 'comedy'], ['romance'], ['fantasy', 'adventure', 'action', 'comedy'], ['adventure', 'scifi', 'kidsandfamily'], ['fantasy', 'adventure', 'scifi', 'action'], ['drama'], ['drama', 'mysteryandthriller', 'crime'], ['drama', 'comedy'], ['adventure', 'kidsandfamily', 'comedy']]\n"
     ]
    }
   ],
   "source": [
    "genre_lst_rot = []\n",
    "for i in movie_links:\n",
    "    #genre\n",
    "    m_page_rot = requests.get(i, headers = headers)\n",
    "    m_soup_rot = BeautifulSoup(m_page_rot.content, 'lxml')\n",
    "    genre_rot = m_soup_rot.find('div', class_ = 'meta-value genre').text.lower().strip()\n",
    "    genres_rot = re.sub('\\s+','',genre_rot).split(',')\n",
    "    genre_lst_rot.append(genres_rot)\n",
    "print(genre_lst_rot)"
   ]
  },
  {
   "cell_type": "code",
   "execution_count": 18,
   "metadata": {},
   "outputs": [
    {
     "name": "stdout",
     "output_type": "stream",
     "text": [
      "['https://www.rottentomatoes.com/m/black_panther_2018/reviews?type=user', 'https://www.rottentomatoes.com/m/avengers_endgame/reviews?type=user', 'https://www.rottentomatoes.com/m/us_2019/reviews?type=user', 'https://www.rottentomatoes.com/m/toy_story_4/reviews?type=user', 'https://www.rottentomatoes.com/m/lady_bird/reviews?type=user', 'https://www.rottentomatoes.com/m/citizen_kane/reviews?type=user', 'https://www.rottentomatoes.com/m/mission_impossible_fallout/reviews?type=user', 'https://www.rottentomatoes.com/m/the_wizard_of_oz_1939/reviews?type=user', 'https://www.rottentomatoes.com/m/blackkklansman/reviews?type=user', 'https://www.rottentomatoes.com/m/get_out/reviews?type=user', 'https://www.rottentomatoes.com/m/the_irishman/reviews?type=user', 'https://www.rottentomatoes.com/m/mad_max_fury_road/reviews?type=user', 'https://www.rottentomatoes.com/m/spider_man_into_the_spider_verse/reviews?type=user', 'https://www.rottentomatoes.com/m/1003707-casablanca/reviews?type=user', 'https://www.rottentomatoes.com/m/moonlight_2016/reviews?type=user', 'https://www.rottentomatoes.com/m/a_star_is_born_2018/reviews?type=user', 'https://www.rottentomatoes.com/m/wonder_woman_2017/reviews?type=user', 'https://www.rottentomatoes.com/m/dunkirk_2017/reviews?type=user', 'https://www.rottentomatoes.com/m/inside_out_2015/reviews?type=user', 'https://www.rottentomatoes.com/m/the_farewell_2019/reviews?type=user', 'https://www.rottentomatoes.com/m/a_quiet_place_2018/reviews?type=user', 'https://www.rottentomatoes.com/m/modern_times/reviews?type=user', 'https://www.rottentomatoes.com/m/eighth_grade/reviews?type=user', 'https://www.rottentomatoes.com/m/it_happened_one_night/reviews?type=user', 'https://www.rottentomatoes.com/m/booksmart/reviews?type=user', 'https://www.rottentomatoes.com/m/1015002-night_at_the_opera/reviews?type=user', 'https://www.rottentomatoes.com/m/roma_2018/reviews?type=user', 'https://www.rottentomatoes.com/m/the_third_man/reviews?type=user', 'https://www.rottentomatoes.com/m/coco_2017/reviews?type=user', 'https://www.rottentomatoes.com/m/thor_ragnarok_2017/reviews?type=user', 'https://www.rottentomatoes.com/m/the_shape_of_water_2017/reviews?type=user', 'https://www.rottentomatoes.com/m/selma/reviews?type=user', 'https://www.rottentomatoes.com/m/spotlight_2015/reviews?type=user', 'https://www.rottentomatoes.com/m/godfather/reviews?type=user', 'https://www.rottentomatoes.com/m/la_grande_illusion/reviews?type=user', 'https://www.rottentomatoes.com/m/arrival_2016/reviews?type=user', 'https://www.rottentomatoes.com/m/singin_in_the_rain/reviews?type=user', 'https://www.rottentomatoes.com/m/1048445-snow_white_and_the_seven_dwarfs/reviews?type=user', 'https://www.rottentomatoes.com/m/logan_2017/reviews?type=user', 'https://www.rottentomatoes.com/m/the_cabinet_of_dr_caligari/reviews?type=user', 'https://www.rottentomatoes.com/m/double_indemnity/reviews?type=user', 'https://www.rottentomatoes.com/m/the_favourite_2018/reviews?type=user', 'https://www.rottentomatoes.com/m/the_big_sick/reviews?type=user', 'https://www.rottentomatoes.com/m/spider_man_far_from_home/reviews?type=user', 'https://www.rottentomatoes.com/m/et_the_extraterrestrial/reviews?type=user', 'https://www.rottentomatoes.com/m/star_wars_the_last_jedi/reviews?type=user', 'https://www.rottentomatoes.com/m/1000626-all_about_eve/reviews?type=user', 'https://www.rottentomatoes.com/m/1018688-shadow_of_a_doubt/reviews?type=user', 'https://www.rottentomatoes.com/m/1052609-kid/reviews?type=user', 'https://www.rottentomatoes.com/m/paddington_2/reviews?type=user']\n",
      "[['fantasy', 'action', 'adventure'], ['fantasy', 'adventure', 'scifi', 'action'], ['horror', 'mysteryandthriller'], ['fantasy', 'kidsandfamily', 'animation', 'adventure', 'comedy'], ['drama', 'comedy'], ['drama'], ['adventure', 'mysteryandthriller', 'action'], ['musical', 'kidsandfamily', 'fantasy'], ['drama', 'comedy', 'crime'], ['horror', 'mysteryandthriller', 'comedy'], ['drama', 'crime'], ['adventure', 'action'], ['fantasy', 'comedy', 'kidsandfamily', 'animation', 'adventure', 'action'], ['drama'], ['drama'], ['drama', 'music', 'romance'], ['adventure', 'action', 'fantasy'], ['drama', 'war', 'history'], ['comedy', 'fantasy', 'kidsandfamily', 'animation'], ['drama', 'comedy'], ['horror', 'mysteryandthriller'], ['comedy'], ['drama', 'comedy'], ['romance'], ['comedy'], ['comedy'], ['drama'], ['mysteryandthriller'], ['music', 'kidsandfamily', 'animation', 'adventure', 'comedy'], ['fantasy', 'comedy', 'scifi', 'adventure', 'action'], ['fantasy', 'romance'], ['drama', 'history'], ['drama'], ['drama', 'crime'], ['drama', 'war'], ['drama', 'scifi', 'mysteryandthriller'], ['comedy', 'musical'], ['fantasy', 'animation', 'kidsandfamily'], ['fantasy', 'adventure', 'action'], ['horror'], ['drama', 'crime'], ['drama', 'comedy'], ['romance'], ['fantasy', 'adventure', 'action', 'comedy'], ['adventure', 'scifi', 'kidsandfamily'], ['fantasy', 'adventure', 'scifi', 'action'], ['drama'], ['drama', 'mysteryandthriller', 'crime'], ['drama', 'comedy'], ['adventure', 'kidsandfamily', 'comedy']]\n"
     ]
    }
   ],
   "source": [
    "#you will notice that we got critic reviews instead of user reviews\n",
    "#but going back, you will see critic reviews and user reviews uses exactlt the same tag, we cannot tell them apart\n",
    "#so we go back and use the find_all function, this will get us 2 results for each movie, 1 for critic review, 1 for user review\n",
    "#we only want the second one\n",
    "review_links = []\n",
    "genre_lst_rot = []\n",
    "for i in movie_links:\n",
    "    #page = requests.get(i, headers = headers)\n",
    "    soup = BeautifulSoup(page.content, \"html.parser\")\n",
    "    review_link = i + '/reviews?type=user'\n",
    "    review_links.append(review_link)\n",
    "    m_page_rot = requests.get(i, headers = headers)\n",
    "    m_soup_rot = BeautifulSoup(m_page_rot.content, 'lxml')\n",
    "    genre_rot = m_soup_rot.find('div', class_ = 'meta-value genre').text.lower().strip()\n",
    "    genres_rot = re.sub('\\s+','',genre_rot).split(',')\n",
    "    genre_lst_rot.append(genres_rot)\n",
    "print(review_links) \n",
    "print(genre_lst_rot)"
   ]
  },
  {
   "cell_type": "code",
   "execution_count": 20,
   "metadata": {},
   "outputs": [
    {
     "name": "stdout",
     "output_type": "stream",
     "text": [
      "Movie 1\n",
      "Total user reviews: 10\n",
      "10\n",
      "it was absolutely appaling i have never been more bored or ashamed of marvel in my entire life dreadful movie would never watch again or recommend\n",
      "Movie 2\n",
      "Total user reviews: 10\n",
      "10\n",
      "i dont know how everyone at marvel pulled this off but im so glad that they did as a huge marvel fan this movie was perfect and i couldnt be happier the cast was great  the russos have directed my favourite marvel movies  the action was great as well captain america is my favourite superhero ever  and to see how perfectly they wrapped his story was very gratifying  this movie was everything i had hoped for and more well done to everyone at marvel for the amazing work over the last 12 years  im looking forward to where the mcu goes from here\n",
      "Movie 3\n",
      "Total user reviews: 10\n",
      "10\n",
      "i was so disapointed great performances by the actors and yes i do understand what peele was trying to convey it just left me feeling so utterly disapointed\n",
      "Movie 4\n",
      "Total user reviews: 10\n",
      "10\n",
      "this score is definitely too high i was extremely disappointed with toy story 4 there was no point for it it ended perfectly with 3 all happy and together 4 erases everything the other movies are about and was like screw your friends and screw the child i just want to date this chick\n",
      "Movie 5\n",
      "Total user reviews: 10\n",
      "10\n",
      "i enjoyed this film and would recommend but it was just a bit slow it ticked along at just about the pace to hold my interest but only just any slower and i would have given up and read my book i loved lady birds character i fully believed that she was a slightly troubled confused teenager going through things weve all been through and some parts made me laugh it made me think of my relationships with my daughters and how they might be when my girls become teenagers i cant say the music or cinematography were overly memorable but it all seems to fit together nicely an overall nice film\n",
      "Movie 6\n",
      "Total user reviews: 10\n",
      "10\n",
      "my sound was messed up halfway through but pretty incredible this movie was made in the 40s\n",
      "Movie 7\n",
      "Total user reviews: 10\n",
      "10\n",
      "best action movie ever hands down\n",
      "Movie 8\n",
      "Total user reviews: 10\n",
      "10\n",
      "still fun even 81 years later\n",
      "Movie 9\n",
      "Total user reviews: 10\n",
      "10\n",
      "is an incredible insight into the civil rights movement in the usa and cop struggling to play both sides\n",
      "Movie 10\n",
      "Total user reviews: 10\n",
      "10\n",
      "i was freaked out i cheered i laughed i wss on the edge of my seat what a ride\n",
      "Movie 11\n",
      "Total user reviews: 10\n",
      "10\n",
      "a very interesting very long story its worth the watch i recommend a break in the middle of the movie\n",
      "Movie 12\n",
      "Total user reviews: 10\n",
      "10\n",
      "one of the best action movies of all time\n",
      "Movie 13\n",
      "Total user reviews: 10\n",
      "10\n",
      "seeing this film was an absolute phenomenal experience i will not forget i had no reoubme picking out my seat for the showtime and was able to enjoy my viewing with the comfortable chairs and food that exceeded my tastebuds satisfaction\n",
      "Movie 14\n",
      "Total user reviews: 10\n",
      "10\n",
      "this classic never gets old  a definite must see for any movie buff\n",
      "Movie 15\n",
      "Total user reviews: 10\n",
      "10\n",
      "ali is the best part of the movie disappointing to see him leave so early on the plot is a bit uninteresting i believe its an overrated movie life im sure some could relate to though so props to that\n",
      "Movie 16\n",
      "Total user reviews: 10\n",
      "10\n",
      "was this autobiographical of lady gaga no it is the fourth filmed version of the 1937 film after the 1954 musical and the 1976 musical\n",
      "winner for best original song in the 91st oscars for shallow\n",
      "Movie 17\n",
      "Total user reviews: 10\n",
      "10\n",
      "wonder woman stars the stunning gal gadot on the big screen  as a kid i fell in love with linda carter as wonder woman on the small screen i got to watch this movie with my son for the second time and of all the dc movies this one stands out on his own  patty jenkins was at the helm with this one and her visual direction gave this visually stunning flick a fighting chance  the acting was subpar but the storyline was compelling putting mythical gods on the map  chris pine was not a convincing british spy without an accent which gave the movie one less star  robin wright portrayed gadots aunt who taught her everything to be the superhero that she became the story brings wonder woman out of the amazon during wwi to help protect those that cant protect themselves  i also found the computer fighting sequences to be less stunning and not very appealing but knowing that gadot was pregnant during filming i would say it did its job  i would recommend this one it was good to watch again\n",
      "Movie 18\n",
      "Total user reviews: 10\n",
      "10\n",
      "chris nolan does it again he make a normal ww2 movie so twisty with the different timelines it brings such tension and excitement the historical speech everyone knows at the end was moving as well\n",
      "Movie 19\n",
      "Total user reviews: 10\n",
      "10\n",
      "i missed my imaginary friend\n",
      "Movie 20\n",
      "Total user reviews: 10\n",
      "10\n",
      "a tender loving story that is filled with life although the subject matter is enough to make you sad it is handled with care by director lulu wang it is sad but just the right amount of humorous it is an understated movie in many ways but incredibly powerful highlighting the limited time that we have on this planet and the ways that we should spend it definite mustwatch\n",
      "Movie 21\n",
      "Total user reviews: 10\n",
      "10\n",
      "movie was dope excited for part 2\n",
      "Movie 22\n",
      "Total user reviews: 10\n",
      "10\n",
      "tiempos modernos modern times es un largometraje de drama y comedia estrenado en el año de 1936 y que fue escrita dirigida y protagonizada por charles chaplin siendo esta cinta una de las pocas en las que se puede escuchar claramente la voz del actor constituyendo así una mezcla muy entretenida entre el cine mudo y el cine sonoro\n",
      "la película tiene como protagonistas principales a charles chaplin quien interpreta el personaje de un explotado trabajador industrial y a paulette goddard que hace el papel de una chica huérfana con la que chaplin se encontrará y pasaran ciertas aventuras juntos sin embargo tendrán que enfrentarse ante una sociedad industrializada llena de problemas personas y exigencias que no los dejaran cumplir sus sueños y fantasías de una vida feliz\n",
      "si bien el filme no cuenta con la personificación de un antagonista como tal se podría decir que chaplin busca proyectar que el verdadero enemigo de los personajes es el sistema capitalista y a base de las maquinas en el que viven siendo esto lo que provoca que los trabajadores sean explotados hasta más no poder para así arruinar sus vidas siendo abordado en el filme de una manera cómica cuando el protagonista es hospitalizado\n",
      "en este sentido se podría decir que la película se desarrolla posiblemente entre los años después del gran crack de 1929 en los estados unidos una época en la cual muchos empleados quedaron sin trabajo y tuvieron que verse en situaciones difíciles para sobrevivir dejando muchas veces su felicidad a un lado \n",
      "esto se menciona porque dentro del filme se ven diferentes hechos en los que los trabajadores realizan manifestaciones en busca de libertad y de sus derechos laborales pero que son oprimidos por la policía e incluso se puede observar como las demandas de trabajo son inmensas y que si no tienen la suerte necesaria o alguna referencia de otras personas se vuelve difícil tener una oportunidad \n",
      "por lo que el punto central de los personajes se basa en la búsqueda de la felicidad pero que de acuerdo a lo que les ha hecho creer la sociedad es que para conseguir esa felicidad necesitan dinero y que para tener dinero necesitan trabajar ardua e incansablemente un mensaje que se desarrolla a lo largo de la película pero que no resulta pesado o aburrido\n",
      "y que es una cinta que no posee sorprendentes detalles estéticos gusta entretiene y transmite el mensaje sutilmente gracias a la interpretación cómica y a base de gestos con los que actúa charles chaplin quien es también fue el encargado de realizar el sonido para la película\n",
      "en relación a esto es sorprende que si bien el filme no cuenta con diálogos como tal para impulsar el mensaje sino solo frases sueltas en ciertos momentos la sonorización y los efectos de sonido cumplen el papel de transmitir las emociones y sensaciones al público junto a las actuaciones por lo que el sonido va más allá de solo ambientar sino que funciona como complemento de la idea general que se busca transmitir \n",
      "en este aspecto se vuelve interesante la apuesta que se hace entre el cine sonoro y el cine mudo ya que constituyen una mezcla de dos momentos importantes para el desarrollo de este arte así mismo da curiosidad pensar sobre el impacto que tuvo esta película de drama y comedia en las personas de ese tiempo \n",
      "además esta es una cinta que se desarrolla a las puertas de una segunda guerra mundial y después de una crisis económica por lo que de alguna manera la película es bastante revolucionaria tanto técnicamente como en el mensaje que busca transmitir ya que incluso hasta estas fechas los temas que aborda siguen teniendo vigencia o son bastante similares a los que se ilustran en la historia\n",
      "una historia que se presenta de una forma bastante interesante ya que desde las primeras escenas se puede ver como el director intenta hacer una comparación entre los animales y los humanos al mostrar imágenes de cerdos que se desvanecen sobre una toma con personas \n",
      "de esta manera la película logra conectar y contar una historia fluida de una ficción de la realidad abordada desde la diversión con un guión que se basa solo en la presentación de los personajes sin profundizar tanto en lo que ellos y enfrascándose en lo que ellos buscan del mundo\n",
      "una historia que prevalece a pesar de ser tiempos modernos diferentes y que muestra que muchos problemas solo se siguen repitiendo una y otra vez a lo largo del tiempo sin embargo al final de la película el director logra transmitir el mensaje que posiciona el amor sobre todo ya que a pesar de no tener nada ambos personajes se tienen el uno para el otro apoyándose mutuamente y sobreviviendo juntos\n",
      "tiempos modernos fue y sigue siendo una película bastante adelantada a su tiempo con respecto a la forma con la que chaplin logra transmitir el mensaje esto porque su producto entretiene y hasta estas sigue haciéndolo gracias a su uso de la comedia y su forma de narrar la historia de una cinta que fue estrenada en 1936 por lo que es importante hacer una reflexión individual sobre hacia a donde vamos nosotros como personas dentro de una sociedad llena de exigencias y ante revoluciones industriales y tecnológicas\n"
     ]
    },
    {
     "name": "stdout",
     "output_type": "stream",
     "text": [
      "Movie 23\n",
      "Total user reviews: 10\n",
      "10\n",
      "a unique coming of age film set in the modern world awkward but touching\n",
      "Movie 24\n",
      "Total user reviews: 10\n",
      "10\n",
      "afi 100 greatest films  35 this is a film i knew nothing about and went into this with only the very short description on the tcm listing as background knowledge the brief synopsis under the title listing made this film sound more like a mysterysuspense when i read it so i was surprised and thrown off by the quirky and playful tone early into the picture not realizing i was actually watching one of the original romcoms it isnt hard to see why this was the first film to take home the big four at the academy awards as the directing and acting from the two leads was so in sync and i imagine quite groundbreaking for that time as elements of this film are still seen prevalently in romantic comedies today definitely not my favorite film or genre but one definitely that would be hard not to appreciate and respect\n",
      "Movie 25\n",
      "Total user reviews: 10\n",
      "10\n",
      "a great movie that deals with teenage life if you have a teenager watch this movie with them\n",
      "Movie 26\n",
      "Total user reviews: 10\n",
      "10\n",
      "i watch duck soup and promised myself id never watch another marx brothers film got my arm twisted into watching this its way better more engaging plot but the jokes and japes are just not funny the marx brothers humour clearly just isnt for me\n",
      "Movie 27\n",
      "Total user reviews: 10\n",
      "10\n",
      "puede ser una obra realmente visual elaborada en blanco y negro lo que lo hace artística hace referencias en la época de los 70s de igual manera tienes tomas muy buenas incluso adentrándose más allá de la orilla del mar lo cual es poco frecuente en las películas no obstante las escenas de proyección se efectúan con mucho tiempo regresando a las filmaciones de antaños en las que las tomas duran mucho en un close up y en esta película el lavar un piso dura 5 minutos las nuevas películas ya no hacen uso de ese recurso lo que lo hace que no esté actualizada  se necesitan historias nutridas en contexto y está quedó fuera de proporción es una historia sencilla y llana la llaman ahora obra de arte hay historias de madres solteras de bajos recursos que son de gran admiración la actuación es regular no despierta mayor interés para terminar una película buena con contenido te despierta  interés y subes excepcional las vez varias veces aunncuando ya sabes en qué termina en este caso con una vez de haberla visto es más que suficiente y entender de que se trata   espero no herir suseptibilidades y entiendo el esfuerzo por parte de todo el equipo de producción para poder elaborar una película pero también es importante lo que nos quieren comunicar y por dedicar el tiempo que tomamos para ver dicha película por lo cual sugiero lo tomen como crítica constructiva a efecto de mejorar saludos\n",
      "Movie 28\n",
      "Total user reviews: 10\n",
      "10\n",
      "a quirky joy unique even hover half a century later with solid characters mystery progression and atmospheric noir tone all made fresh with the bizarre usage of a ukulele in the soundtrack 9510\n",
      "Movie 29\n",
      "Total user reviews: 10\n",
      "10\n",
      "just beautiful i dont remeber if i cried so much because of a movie its warming your heart and soul\n",
      "Movie 30\n",
      "Total user reviews: 10\n",
      "10\n",
      "thor in the comics was probably my least favourite hero but in the marvel universe of movies hes become one of my favourite characters to watch as he is equal parts mighty and pretty subtly hilarious \n",
      "the third film in the thor series is my favourite as it mixes great action with the quirky comedy of director taika waititi who also voices a pretty fun character add in a giant sized comic book worthy face off against the hulk and a pinch of jeff goldblum and its impossible not to be thoroughly entertained\n",
      "Movie 31\n",
      "Total user reviews: 10\n",
      "10\n",
      "although parts of the story line are far fetched human female has sex with slimey aquetic creature the film has obviously been influenced by those 1950s horrorscifi films the acting is good michael shannon is particularly menacing the pace does not waiver whether it is a worthy oscar winner is debatable\n",
      "Movie 32\n",
      "Total user reviews: 10\n",
      "10\n",
      "except for the portrayal of lyndon b johnson this was an exceptional film david oyelowo is incredible as martin luther king jr that its shocking to believe he wasnt nominated for an oscar\n",
      "Movie 33\n",
      "Total user reviews: 10\n",
      "10\n",
      "spotlight is surprisingly a very well made movie though much of the movie is talking and investigation it finds a way to really grip you into wanting to know the truth as much as the team does such a crazy story cant believe it happened everywhere the entire cast gave out amazing performances interesting film\n",
      "Movie 34\n",
      "Total user reviews: 10\n",
      "10\n",
      "whoo i love it and lots\n",
      "Movie 35\n",
      "Total user reviews: 10\n",
      "10\n",
      "this is a lyrical and deeply humane story of prisoners their captors and their escape of the end of the old european order and its aristocracy of the deep goodness inside individuals and in spite of that goodness of the madness of our societies  it is a film clearly against war and nationalism and renoir paints a loving picture of both aristocrats and commoners  eric von stroheims performance is indelible unforgettable\n",
      "Movie 36\n",
      "Total user reviews: 10\n",
      "10\n",
      "the whole cast are terrific but amy adams is outstanding a must for any scifi fan\n",
      "Movie 37\n",
      "Total user reviews: 10\n",
      "10\n",
      "singin in the rain is the best musical ever made even by todays standards the production and talent is unparalleled you cant call yourself a film buff if you havent seen this movies the main score of singin in the rain when gene kelly is dancing down the street so in love that he doesnt mind the down pour is enough to touch anyones heart this movie will always remain one of my alltime favorites and a great hollywood masterpiece\n",
      "Movie 38\n",
      "Total user reviews: 10\n",
      "10\n",
      "i am in aw every time i watch this movie i still dont know how they made this incredible animated movie in 1937\n",
      "Movie 39\n",
      "Total user reviews: 10\n",
      "10\n",
      "shallow and empty by the end this movie was as full of plotholes as logan was of actual holes the only thing i wanted to know is what was killing logan and what dr xavier did that messed everything up the answer to the first is lame and there isnt even an answer to the second because they hope their audience will just fill in the gap lazy i went in this ready to love it i came out wondering what the fuck i wasted 2 hours on\n",
      "Movie 40\n",
      "Total user reviews: 10\n",
      "10\n",
      "this classic is worth watching  the dvd i saw also had a german documentary about their film history  dr c is more than terror its about cultural shift\n",
      "Movie 41\n",
      "Total user reviews: 10\n",
      "10\n",
      "this is where the blueprint of the greedy unscrupulous wife originated\n",
      "double indemnity has been imitated but never properly duplicated\n",
      "\n",
      "one of the great billy wilders best films it never quite reached the level of recognition it probably deserved it never won an academy award its actors were at the time felt to be miscast\n",
      "\n",
      "and now over 75 years after its making it appears obvious that double indemnity cannot possibly be remade to capture the essence of what it was\n",
      "Movie 42\n",
      "Total user reviews: 10\n",
      "10\n",
      "i want to tell you a little bit about this movieits such a thought provoking filmqueen anne was the first ruler of the newly united great britain in the early 1700s the last stuart monarch before the hanoverian dynasty thats still with us god save the queenso theres your story\n",
      "here the widowed childless semiinvalid anne is a lonely eccentric figure stuck in the gilded cage of her palace who leaves the managing of national affairs to her childhood friend the formidable sarah churchill\n",
      "sarah is the wife of john churchill head of the armed forces and of another dynasty thats still with us the duke of marlborough as john is also known is off fighting the french comme de tradition and one of sarahs jobs is to bully parliament into keeping his war funded\n",
      "sarah then is pretty much in charge until the arrival of a impoverished cousin abigail who seeks work as a servant abigail then sets about working her way up the hierarchy all the way to the queens bedchamber\n",
      "yet overall the favourite is an extremely boring film thats poorly made unfortunately not as weird as what ive come to expect from lanthimos but still compelling gorgeous and irreverent even darkly funny by timesthis witty complexpowerful bawdy and occasionally absurdist story of court politics is great fun despite some gratingly annoying music\n",
      "but in some places there is very slow movement which is very annoying\n",
      "and probably accurate at least in showing how fragile both power and social status were in that era but i would recommend watching this one because its very breathtaking film\n"
     ]
    },
    {
     "name": "stdout",
     "output_type": "stream",
     "text": [
      "Movie 43\n",
      "Total user reviews: 10\n",
      "10\n",
      "it took me a little while to get into it but it eventually pulled me in and i laughed several times i went into it without knowing much beforehand and i had no idea it was based on the reallife story of the lead actor until the pictures at the end i thought ray romano was particularly great in this it has some charm to it\n",
      "Movie 44\n",
      "Total user reviews: 10\n",
      "10\n",
      "very fun to watch i like how this is similiar to the spiderman from the comic a fresh movie to watch\n",
      "Movie 45\n",
      "Total user reviews: 10\n",
      "10\n",
      "a classic in its own right et has everything a family movie needs and more\n",
      "Movie 46\n",
      "Total user reviews: 10\n",
      "10\n",
      "it was flashy but i liked less the more i thought about it\n",
      "Movie 47\n",
      "Total user reviews: 10\n",
      "10\n",
      "the dialog in these older films is always pretty good eve was really sketchy from the get go here but they didnt give it enough legs as to what she may be up to the films didnt really pick up till the final act and it was all like blam blackmail deceit back stabbing its like 23 of a movie about one thing and then the final 13 they make it about what they said it was all about  if its all about eve they should have made it all about eve\n",
      "Movie 48\n",
      "Total user reviews: 10\n",
      "10\n",
      "pretty solid psychological thriller that reminds me of what has macabrely fascinated me since i can remember the more recent real life occurrences where a family member discover their seemingly normal relation is living a double life as a monster no surprise hitchcock recognized and tapped into the horrific implications of this family member being forced to acknowledge the suspicions that because of familial love they are naturally attempting every logistical process to internally dismiss 7510\n",
      "Movie 49\n",
      "Total user reviews: 10\n",
      "10\n",
      "with all the charisma and talent of charles chaplin playing his iconic character the tramp and jackie coogans endearing and tender performance the kid is a hilarious classic that has a great and sweet dramatic balance 55  1010\n",
      "Movie 50\n",
      "Total user reviews: 10\n",
      "10\n",
      "it was very good better than the first at times but noticeably blander in others charming though and a delight to watch 8510 recommended\n",
      "['absolutely', 'appaling', 'never', 'bored', 'ashamed', 'marvel', 'entire', 'life', 'dreadful', 'movie', 'would', 'never', 'watch', 'recommend', 'dont', 'know', 'everyone', 'marvel', 'pulled', 'glad', 'huge', 'marvel', 'fan', 'movie', 'perfect', 'couldnt', 'happier', 'cast', 'great', 'russos', 'directed', 'favourite', 'marvel', 'movies', 'action', 'great', 'well', 'captain', 'america', 'favourite', 'superhero', 'ever', 'see', 'perfectly', 'wrapped', 'story', 'gratifying', 'movie', 'everything', 'hoped', 'well', 'done', 'everyone', 'marvel', 'amazing', 'work', 'last', '12', 'years', 'looking', 'forward', 'mcu', 'goes', 'disapointed', 'great', 'performances', 'actors', 'yes', 'understand', 'peele', 'trying', 'convey', 'left', 'feeling', 'utterly', 'disapointed', 'score', 'definitely', 'high', 'extremely', 'disappointed', 'toy', 'story', '4', 'point', 'ended', 'perfectly', '3', 'happy', 'together', '4', 'erases', 'everything', 'movies', 'like', 'screw', 'friends', 'screw', 'child', 'date', 'chick', 'enjoyed', 'film', 'would', 'recommend', 'bit', 'slow', 'ticked', 'along', 'pace', 'hold', 'interest', 'slower', 'would', 'given', 'read', 'book', 'loved', 'lady', 'birds', 'character', 'fully', 'believed', 'slightly', 'troubled', 'confused', 'teenager', 'going', 'things', 'weve', 'parts', 'made', 'laugh', 'made', 'think', 'relationships', 'daughters', 'might', 'girls', 'become', 'teenagers', 'cant', 'say', 'music', 'cinematography', 'overly', 'memorable', 'seems', 'fit', 'together', 'nicely', 'overall', 'nice', 'film', 'sound', 'messed', 'halfway', 'pretty', 'incredible', 'movie', 'made', '40s', 'best', 'action', 'movie', 'ever', 'hands', 'still', 'fun', 'even', '81', 'years', 'later', 'incredible', 'insight', 'civil', 'rights', 'movement', 'usa', 'cop', 'struggling', 'play', 'sides', 'freaked', 'cheered', 'laughed', 'wss', 'edge', 'seat', 'ride', 'interesting', 'long', 'story', 'worth', 'watch', 'recommend', 'break', 'middle', 'movie', 'best', 'action', 'movies', 'time', 'seeing', 'film', 'absolute', 'phenomenal', 'experience', 'forget', 'reoubme', 'picking', 'seat', 'showtime', 'able', 'enjoy', 'viewing', 'comfortable', 'chairs', 'food', 'exceeded', 'tastebuds', 'satisfaction', 'classic', 'never', 'gets', 'old', 'definite', 'must', 'see', 'movie', 'buff', 'best', 'part', 'movie', 'disappointing', 'see', 'leave', 'early', 'plot', 'bit', 'uninteresting', 'believe', 'overrated', 'movie', 'life', 'sure', 'could', 'relate', 'though', 'props', 'autobiographical', 'lady', 'gaga', 'fourth', 'filmed', 'version', '1937', 'film', '1954', 'musical', '1976', 'musical', 'winner', 'best', 'original', 'song', '91st', 'oscars', 'shallow', 'wonder', 'woman', 'stars', 'stunning', 'gal', 'gadot', 'big', 'screen', 'kid', 'fell', 'love', 'linda', 'carter', 'wonder', 'woman', 'small', 'screen', 'got', 'watch', 'movie', 'second', 'time', 'dc', 'movies', 'stands', 'patty', 'jenkins', 'helm', 'visual', 'direction', 'gave', 'visually', 'stunning', 'flick', 'fighting', 'chance', 'acting', 'subpar', 'storyline', 'compelling', 'putting', 'mythical', 'gods', 'map', 'chris', 'pine', 'convincing', 'british', 'spy', 'without', 'accent', 'gave', 'movie', 'less', 'star', 'robin', 'wright', 'portrayed', 'gadots', 'aunt', 'taught', 'everything', 'superhero', 'became', 'story', 'brings', 'wonder', 'woman', 'amazon', 'wwi', 'help', 'protect', 'cant', 'protect', 'found', 'computer', 'fighting', 'sequences', 'less', 'stunning', 'appealing', 'knowing', 'gadot', 'pregnant', 'filming', 'would', 'say', 'job', 'would', 'recommend', 'good', 'watch', 'chris', 'nolan', 'make', 'normal', 'ww2', 'movie', 'twisty', 'different', 'timelines', 'brings', 'tension', 'excitement', 'historical', 'speech', 'everyone', 'knows', 'moving', 'well', 'missed', 'imaginary', 'friend', 'tender', 'loving', 'story', 'filled', 'life', 'although', 'subject', 'matter', 'enough', 'make', 'sad', 'handled', 'director', 'lulu', 'wang', 'sad', 'right', 'amount', 'humorous', 'understated', 'movie', 'many', 'ways', 'incredibly', 'powerful', 'highlighting', 'limited', 'time', 'planet', 'ways', 'spend', 'definite', 'mustwatch', 'movie', 'dope', 'excited', 'part', '2', 'tiempos', 'modernos', 'modern', 'times', 'largometraje', 'drama', 'comedia', 'estrenado', 'año', '1936', 'escrita', 'dirigida', 'protagonizada', 'charles', 'chaplin', 'siendo', 'cinta', 'pocas', 'puede', 'escuchar', 'claramente', 'voz', 'actor', 'constituyendo', 'así', 'mezcla', 'entretenida', 'mudo', 'sonoro', 'película', 'protagonistas', 'principales', 'charles', 'chaplin', 'interpreta', 'personaje', 'explotado', 'trabajador', 'industrial', 'paulette', 'goddard', 'hace', 'papel', 'chica', 'huérfana', 'chaplin', 'encontrará', 'pasaran', 'ciertas', 'aventuras', 'juntos', 'embargo', 'enfrentarse', 'sociedad', 'industrializada', 'llena', 'problemas', 'personas', 'exigencias', 'dejaran', 'cumplir', 'sueños', 'fantasías', 'vida', 'feliz', 'bien', 'filme', 'cuenta', 'personificación', 'antagonista', 'tal', 'podría', 'decir', 'chaplin', 'busca', 'proyectar', 'verdadero', 'enemigo', 'personajes', 'sistema', 'capitalista', 'base', 'maquinas', 'viven', 'siendo', 'provoca', 'trabajadores', 'explotados', 'poder', 'así', 'arruinar', 'vidas', 'siendo', 'abordado', 'filme', 'manera', 'cómica', 'protagonista', 'hospitalizado', 'podría', 'decir', 'película', 'desarrolla', 'posiblemente', 'años', 'después', 'gran', 'crack', '1929', 'unidos', 'época', 'empleados', 'quedaron', 'trabajo', 'verse', 'situaciones', 'difíciles', 'sobrevivir', 'dejando', 'muchas', 'veces', 'felicidad', 'lado', 'menciona', 'dentro', 'filme', 'ven', 'diferentes', 'hechos', 'trabajadores', 'realizan', 'manifestaciones', 'busca', 'libertad', 'derechos', 'laborales', 'oprimidos', 'policía', 'incluso', 'puede', 'observar', 'demandas', 'trabajo', 'inmensas', 'suerte', 'necesaria', 'alguna', 'referencia', 'personas', 'vuelve', 'difícil', 'tener', 'oportunidad', 'punto', 'central', 'personajes', 'basa', 'búsqueda', 'felicidad', 'acuerdo', 'hecho', 'creer', 'sociedad', 'conseguir', 'felicidad', 'necesitan', 'dinero', 'tener', 'dinero', 'necesitan', 'trabajar', 'ardua', 'incansablemente', 'mensaje', 'desarrolla', 'largo', 'película', 'resulta', 'pesado', 'aburrido', 'cinta', 'posee', 'sorprendentes', 'detalles', 'estéticos', 'gusta', 'entretiene', 'transmite', 'mensaje', 'sutilmente', 'gracias', 'interpretación', 'cómica', 'base', 'gestos', 'actúa', 'charles', 'chaplin', 'encargado', 'realizar', 'sonido', 'película', 'relación', 'sorprende', 'bien', 'filme', 'cuenta', 'diálogos', 'tal', 'impulsar', 'mensaje', 'sino', 'solo', 'frases', 'sueltas', 'ciertos', 'momentos', 'sonorización', 'efectos', 'sonido', 'cumplen', 'papel', 'transmitir', 'emociones', 'sensaciones', 'público', 'junto', 'actuaciones', 'sonido', 'allá', 'solo', 'ambientar', 'sino', 'funciona', 'complemento', 'idea', 'general', 'busca', 'transmitir', 'aspecto', 'vuelve', 'interesante', 'apuesta', 'hace', 'sonoro', 'mudo', 'constituyen', 'mezcla', 'momentos', 'importantes', 'desarrollo', 'arte', 'así', 'mismo', 'curiosidad', 'pensar', 'impacto', 'película', 'drama', 'comedia', 'personas', 'tiempo', 'además', 'cinta', 'desarrolla', 'puertas', 'segunda', 'guerra', 'mundial', 'después', 'crisis', 'económica', 'alguna', 'manera', 'película', 'bastante', 'revolucionaria', 'técnicamente', 'mensaje', 'busca', 'transmitir', 'incluso', 'fechas', 'temas', 'aborda', 'siguen', 'vigencia', 'bastante', 'similares', 'ilustran', 'historia', 'historia', 'presenta', 'forma', 'bastante', 'interesante', 'primeras', 'escenas', 'puede', 'ver', 'director', 'intenta', 'hacer', 'comparación', 'animales', 'humanos', 'mostrar', 'imágenes', 'cerdos', 'desvanecen', 'toma', 'personas', 'manera', 'película', 'logra', 'conectar', 'contar', 'historia', 'fluida', 'ficción', 'realidad', 'abordada', 'diversión', 'guión', 'basa', 'solo', 'presentación', 'personajes', 'profundizar', 'enfrascándose', 'buscan', 'mundo', 'historia', 'prevalece', 'pesar', 'ser', 'tiempos', 'modernos', 'diferentes', 'muestra', 'problemas', 'solo', 'siguen', 'repitiendo', 'vez', 'largo', 'tiempo', 'embargo', 'final', 'película', 'director', 'logra', 'transmitir', 'mensaje', 'posiciona', 'amor', 'pesar', 'tener', 'ambos', 'personajes', 'apoyándose', 'mutuamente', 'sobreviviendo', 'juntos', 'tiempos', 'modernos', 'sigue', 'siendo', 'película', 'bastante', 'adelantada', 'tiempo', 'respecto', 'forma', 'chaplin', 'logra', 'transmitir', 'mensaje', 'producto', 'entretiene', 'sigue', 'haciéndolo', 'gracias', 'uso', 'comedia', 'forma', 'narrar', 'historia', 'cinta', 'estrenada', '1936', 'importante', 'hacer', 'reflexión', 'individual', 'hacia', 'vamos', 'personas', 'dentro', 'sociedad', 'llena', 'exigencias', 'revoluciones', 'industriales', 'tecnológicas', 'unique', 'coming', 'age', 'film', 'set', 'modern', 'world', 'awkward', 'touching', 'afi', '100', 'greatest', 'films', '35', 'film', 'knew', 'nothing', 'went', 'short', 'description', 'tcm', 'listing', 'background', 'knowledge', 'brief', 'synopsis', 'title', 'listing', 'made', 'film', 'sound', 'like', 'mysterysuspense', 'read', 'surprised', 'thrown', 'quirky', 'playful', 'tone', 'early', 'picture', 'realizing', 'actually', 'watching', 'original', 'romcoms', 'isnt', 'hard', 'see', 'first', 'film', 'home', 'big', 'four', 'academy', 'awards', 'directing', 'acting', 'two', 'leads', 'sync', 'imagine', 'quite', 'groundbreaking', 'time', 'elements', 'film', 'still', 'seen', 'prevalently', 'romantic', 'comedies', 'today', 'definitely', 'favorite', 'film', 'genre', 'definitely', 'would', 'hard', 'appreciate', 'respect', 'great', 'movie', 'deals', 'teenage', 'life', 'teenager', 'watch', 'movie', 'watch', 'duck', 'soup', 'promised', 'id', 'never', 'watch', 'another', 'marx', 'brothers', 'film', 'got', 'arm', 'twisted', 'watching', 'way', 'better', 'engaging', 'plot', 'jokes', 'japes', 'funny', 'marx', 'brothers', 'humour', 'clearly', 'isnt', 'puede', 'ser', 'obra', 'realmente', 'visual', 'elaborada', 'blanco', 'negro', 'hace', 'artística', 'hace', 'referencias', 'época', '70s', 'igual', 'manera', 'tomas', 'buenas', 'incluso', 'adentrándose', 'allá', 'orilla', 'frecuente', 'películas', 'obstante', 'escenas', 'proyección', 'efectúan', 'tiempo', 'regresando', 'filmaciones', 'antaños', 'tomas', 'duran', 'close', 'película', 'lavar', 'piso', 'dura', '5', 'minutos', 'nuevas', 'películas', 'hacen', 'uso', 'recurso', 'hace', 'actualizada', 'necesitan', 'historias', 'nutridas', 'contexto', 'quedó', 'proporción', 'historia', 'sencilla', 'llana', 'llaman', 'ahora', 'obra', 'arte', 'historias', 'madres', 'solteras', 'bajos', 'recursos', 'gran', 'admiración', 'actuación', 'regular', 'despierta', 'mayor', 'interés', 'terminar', 'película', 'buena', 'contenido', 'despierta', 'interés', 'subes', 'excepcional', 'vez', 'varias', 'veces', 'aunncuando', 'sabes', 'termina', 'caso', 'vez', 'haberla', 'visto', 'suficiente', 'entender', 'trata', 'espero', 'herir', 'suseptibilidades', 'entiendo', 'esfuerzo', 'parte', 'equipo', 'producción', 'poder', 'elaborar', 'película', 'importante', 'quieren', 'comunicar', 'dedicar', 'tiempo', 'tomamos', 'ver', 'dicha', 'película', 'sugiero', 'tomen', 'crítica', 'constructiva', 'efecto', 'mejorar', 'saludos', 'quirky', 'joy', 'unique', 'even', 'hover', 'half', 'century', 'later', 'solid', 'characters', 'mystery', 'progression', 'atmospheric', 'noir', 'tone', 'made', 'fresh', 'bizarre', 'usage', 'ukulele', 'soundtrack', '9510', 'beautiful', 'dont', 'remeber', 'cried', 'much', 'movie', 'warming', 'heart', 'soul', 'thor', 'comics', 'probably', 'least', 'favourite', 'hero', 'marvel', 'universe', 'movies', 'hes', 'become', 'favourite', 'characters', 'watch', 'equal', 'parts', 'mighty', 'pretty', 'subtly', 'hilarious', 'third', 'film', 'thor', 'series', 'favourite', 'mixes', 'great', 'action', 'quirky', 'comedy', 'director', 'taika', 'waititi', 'voices', 'pretty', 'fun', 'character', 'add', 'giant', 'sized', 'comic', 'book', 'worthy', 'hulk', 'pinch', 'jeff', 'goldblum', 'impossible', 'thoroughly', 'entertained', 'although', 'parts', 'story', 'line', 'far', 'fetched', 'human', 'female', 'sex', 'slimey', 'aquetic', 'creature', 'film', 'obviously', 'influenced', '1950s', 'horrorscifi', 'films', 'acting', 'good', 'michael', 'shannon', 'particularly', 'menacing', 'pace', 'waiver', 'whether', 'worthy', 'oscar', 'winner', 'debatable', 'except', 'portrayal', 'lyndon', 'b', 'johnson', 'exceptional', 'film', 'david', 'oyelowo', 'incredible', 'martin', 'luther', 'king', 'jr', 'shocking', 'believe', 'wasnt', 'nominated', 'oscar', 'spotlight', 'surprisingly', 'well', 'made', 'movie', 'though', 'much', 'movie', 'talking', 'investigation', 'finds', 'way', 'really', 'grip', 'wanting', 'know', 'truth', 'much', 'team', 'crazy', 'story', 'cant', 'believe', 'happened', 'everywhere', 'entire', 'cast', 'gave', 'amazing', 'performances', 'interesting', 'film', 'whoo', 'love', 'lots', 'lyrical', 'deeply', 'humane', 'story', 'prisoners', 'captors', 'escape', 'old', 'european', 'order', 'aristocracy', 'deep', 'goodness', 'inside', 'individuals', 'spite', 'goodness', 'madness', 'societies', 'film', 'clearly', 'nationalism', 'renoir', 'paints', 'loving', 'picture', 'aristocrats', 'commoners', 'eric', 'stroheims', 'performance', 'indelible', 'unforgettable', 'whole', 'cast', 'terrific', 'amy', 'adams', 'outstanding', 'must', 'scifi', 'fan', 'singin', 'rain', 'best', 'musical', 'ever', 'made', 'even', 'todays', 'standards', 'production', 'talent', 'unparalleled', 'cant', 'call', 'film', 'buff', 'havent', 'seen', 'movies', 'main', 'score', 'singin', 'rain', 'gene', 'kelly', 'dancing', 'street', 'love', 'doesnt', 'mind', 'enough', 'touch', 'anyones', 'heart', 'movie', 'always', 'remain', 'alltime', 'favorites', 'great', 'hollywood', 'masterpiece', 'aw', 'every', 'time', 'watch', 'movie', 'still', 'dont', 'know', 'made', 'incredible', 'animated', 'movie', '1937', 'shallow', 'empty', 'movie', 'full', 'plotholes', 'logan', 'actual', 'holes', 'thing', 'wanted', 'know', 'killing', 'logan', 'dr', 'xavier', 'messed', 'everything', 'answer', 'first', 'lame', 'isnt', 'even', 'answer', 'second', 'hope', 'audience', 'fill', 'gap', 'lazy', 'went', 'ready', 'love', 'came', 'wondering', 'fuck', 'wasted', '2', 'hours', 'classic', 'worth', 'watching', 'dvd', 'saw', 'german', 'documentary', 'film', 'history', 'dr', 'terror', 'cultural', 'shift', 'blueprint', 'greedy', 'unscrupulous', 'wife', 'originated', 'double', 'indemnity', 'imitated', 'never', 'properly', 'duplicated', 'great', 'billy', 'wilders', 'best', 'films', 'never', 'quite', 'reached', 'level', 'recognition', 'probably', 'deserved', 'never', 'academy', 'award', 'actors', 'time', 'felt', 'miscast', '75', 'years', 'making', 'appears', 'obvious', 'double', 'indemnity', 'possibly', 'remade', 'capture', 'essence', 'tell', 'little', 'bit', 'movieits', 'thought', 'provoking', 'filmqueen', 'anne', 'first', 'ruler', 'newly', 'united', 'great', 'britain', 'early', '1700s', 'last', 'stuart', 'monarch', 'hanoverian', 'dynasty', 'thats', 'still', 'us', 'god', 'save', 'queenso', 'theres', 'story', 'widowed', 'childless', 'semiinvalid', 'anne', 'lonely', 'eccentric', 'figure', 'stuck', 'gilded', 'cage', 'palace', 'leaves', 'managing', 'national', 'affairs', 'childhood', 'friend', 'formidable', 'sarah', 'churchill', 'sarah', 'wife', 'john', 'churchill', 'head', 'armed', 'forces', 'another', 'dynasty', 'thats', 'still', 'us', 'duke', 'marlborough', 'john', 'known', 'fighting', 'french', 'comme', 'tradition', 'sarahs', 'jobs', 'bully', 'parliament', 'keeping', 'funded', 'sarah', 'pretty', 'much', 'charge', 'arrival', 'impoverished', 'cousin', 'abigail', 'seeks', 'work', 'servant', 'abigail', 'sets', 'working', 'way', 'hierarchy', 'way', 'queens', 'bedchamber', 'yet', 'overall', 'favourite', 'extremely', 'boring', 'film', 'thats', 'poorly', 'made', 'unfortunately', 'weird', 'ive', 'expect', 'lanthimos', 'still', 'compelling', 'gorgeous', 'irreverent', 'even', 'darkly', 'funny', 'timesthis', 'witty', 'complexpowerful', 'bawdy', 'occasionally', 'absurdist', 'story', 'court', 'politics', 'great', 'fun', 'despite', 'gratingly', 'annoying', 'music', 'places', 'slow', 'movement', 'annoying', 'probably', 'accurate', 'least', 'showing', 'fragile', 'power', 'social', 'status', 'would', 'recommend', 'watching', 'breathtaking', 'film', 'took', 'little', 'get', 'eventually', 'pulled', 'laughed', 'several', 'times', 'went', 'without', 'knowing', 'much', 'beforehand', 'idea', 'based', 'reallife', 'story', 'lead', 'actor', 'pictures', 'thought', 'ray', 'romano', 'particularly', 'great', 'charm', 'fun', 'watch', 'like', 'similiar', 'spiderman', 'comic', 'fresh', 'movie', 'watch', 'classic', 'right', 'everything', 'family', 'movie', 'needs', 'flashy', 'liked', 'less', 'thought', 'dialog', 'older', 'films', 'always', 'pretty', 'good', 'eve', 'really', 'sketchy', 'get', 'go', 'didnt', 'give', 'enough', 'legs', 'may', 'films', 'didnt', 'really', 'pick', 'final', 'act', 'like', 'blam', 'blackmail', 'deceit', 'back', 'stabbing', 'like', '23', 'movie', 'thing', 'final', '13', 'make', 'said', 'eve', 'made', 'eve', 'pretty', 'solid', 'psychological', 'thriller', 'reminds', 'macabrely', 'fascinated', 'since', 'remember', 'recent', 'real', 'life', 'occurrences', 'family', 'member', 'discover', 'seemingly', 'normal', 'relation', 'living', 'double', 'life', 'monster', 'surprise', 'hitchcock', 'recognized', 'tapped', 'horrific', 'implications', 'family', 'member', 'forced', 'acknowledge', 'suspicions', 'familial', 'love', 'naturally', 'attempting', 'every', 'logistical', 'process', 'internally', 'dismiss', '7510', 'charisma', 'talent', 'charles', 'chaplin', 'playing', 'iconic', 'character', 'tramp', 'jackie', 'coogans', 'endearing', 'tender', 'performance', 'kid', 'hilarious', 'classic', 'great', 'sweet', 'dramatic', 'balance', '55', '1010', 'good', 'better', 'first', 'times', 'noticeably', 'blander', 'others', 'charming', 'though', 'delight', 'watch', '8510', 'recommended']\n",
      "['good', 'better', 'first', 'times', 'noticeably', 'blander', 'others', 'charming', 'though', 'delight', 'watch', '8510', 'recommended']\n"
     ]
    }
   ],
   "source": [
    "n = 0\n",
    "tag_lst = []\n",
    "wordlist = []\n",
    "for i in range(len(review_links)):\n",
    "    review_page = requests.get(review_links[i], headers = headers)\n",
    "    soup = BeautifulSoup(review_page.content, \"html.parser\")\n",
    "    tag_p = soup.find_all('div', class_ = 'audience-reviews__review-wrap') #find_all to return a list\n",
    "    tag_f = soup.find('p', class_ = 'audience-reviews__review js-review-text clamp clamp-8 js-clamp')\n",
    "    tag_r = re.sub(\"<.?>\", \"\", tag_f.text)\n",
    "    tag_r = (tag_r.strip()).lower()\n",
    "    tag = re.sub(r'[^\\w\\s]', '', tag_r)\n",
    "    text_token = word_tokenize(tag)\n",
    "    review3 = [word for word in text_token if not word in stopwords.words()]    \n",
    "    n = n + 1\n",
    "    print('Movie', n)\n",
    "    print('Total user reviews:', len(tag_p))\n",
    "    top_50 = tag[:50]\n",
    "    print(len(tag_p))#some of the movies don't have 50 reviews, but that is fine  \n",
    "    print(tag)\n",
    "    tag_lst.append(tag)\n",
    "    wordlist += review3\n",
    "\n",
    "print(wordlist)\n",
    "print(review3)\n",
    "\n"
   ]
  },
  {
   "cell_type": "code",
   "execution_count": 11,
   "metadata": {},
   "outputs": [
    {
     "name": "stdout",
     "output_type": "stream",
     "text": [
      "['https://www.rottentomatoes.com/m/black_panther_2018/reviews?type=user', 'https://www.rottentomatoes.com/m/avengers_endgame/reviews?type=user', 'https://www.rottentomatoes.com/m/us_2019/reviews?type=user', 'https://www.rottentomatoes.com/m/toy_story_4/reviews?type=user', 'https://www.rottentomatoes.com/m/lady_bird/reviews?type=user', 'https://www.rottentomatoes.com/m/citizen_kane/reviews?type=user', 'https://www.rottentomatoes.com/m/mission_impossible_fallout/reviews?type=user', 'https://www.rottentomatoes.com/m/the_wizard_of_oz_1939/reviews?type=user', 'https://www.rottentomatoes.com/m/blackkklansman/reviews?type=user', 'https://www.rottentomatoes.com/m/get_out/reviews?type=user', 'https://www.rottentomatoes.com/m/the_irishman/reviews?type=user', 'https://www.rottentomatoes.com/m/mad_max_fury_road/reviews?type=user', 'https://www.rottentomatoes.com/m/spider_man_into_the_spider_verse/reviews?type=user', 'https://www.rottentomatoes.com/m/1003707-casablanca/reviews?type=user', 'https://www.rottentomatoes.com/m/moonlight_2016/reviews?type=user', 'https://www.rottentomatoes.com/m/a_star_is_born_2018/reviews?type=user', 'https://www.rottentomatoes.com/m/wonder_woman_2017/reviews?type=user', 'https://www.rottentomatoes.com/m/dunkirk_2017/reviews?type=user', 'https://www.rottentomatoes.com/m/inside_out_2015/reviews?type=user', 'https://www.rottentomatoes.com/m/the_farewell_2019/reviews?type=user', 'https://www.rottentomatoes.com/m/a_quiet_place_2018/reviews?type=user', 'https://www.rottentomatoes.com/m/modern_times/reviews?type=user', 'https://www.rottentomatoes.com/m/eighth_grade/reviews?type=user', 'https://www.rottentomatoes.com/m/it_happened_one_night/reviews?type=user', 'https://www.rottentomatoes.com/m/booksmart/reviews?type=user', 'https://www.rottentomatoes.com/m/1015002-night_at_the_opera/reviews?type=user', 'https://www.rottentomatoes.com/m/roma_2018/reviews?type=user', 'https://www.rottentomatoes.com/m/the_third_man/reviews?type=user', 'https://www.rottentomatoes.com/m/coco_2017/reviews?type=user', 'https://www.rottentomatoes.com/m/thor_ragnarok_2017/reviews?type=user', 'https://www.rottentomatoes.com/m/the_shape_of_water_2017/reviews?type=user', 'https://www.rottentomatoes.com/m/selma/reviews?type=user', 'https://www.rottentomatoes.com/m/spotlight_2015/reviews?type=user', 'https://www.rottentomatoes.com/m/godfather/reviews?type=user', 'https://www.rottentomatoes.com/m/la_grande_illusion/reviews?type=user', 'https://www.rottentomatoes.com/m/arrival_2016/reviews?type=user', 'https://www.rottentomatoes.com/m/singin_in_the_rain/reviews?type=user', 'https://www.rottentomatoes.com/m/1048445-snow_white_and_the_seven_dwarfs/reviews?type=user', 'https://www.rottentomatoes.com/m/logan_2017/reviews?type=user', 'https://www.rottentomatoes.com/m/the_cabinet_of_dr_caligari/reviews?type=user', 'https://www.rottentomatoes.com/m/double_indemnity/reviews?type=user', 'https://www.rottentomatoes.com/m/the_favourite_2018/reviews?type=user', 'https://www.rottentomatoes.com/m/the_big_sick/reviews?type=user', 'https://www.rottentomatoes.com/m/spider_man_far_from_home/reviews?type=user', 'https://www.rottentomatoes.com/m/et_the_extraterrestrial/reviews?type=user', 'https://www.rottentomatoes.com/m/star_wars_the_last_jedi/reviews?type=user', 'https://www.rottentomatoes.com/m/1000626-all_about_eve/reviews?type=user', 'https://www.rottentomatoes.com/m/1018688-shadow_of_a_doubt/reviews?type=user', 'https://www.rottentomatoes.com/m/1052609-kid/reviews?type=user', 'https://www.rottentomatoes.com/m/paddington_2/reviews?type=user']\n",
      "[['fantasy', 'action', 'adventure'], ['fantasy', 'adventure', 'scifi', 'action'], ['horror', 'mysteryandthriller'], ['fantasy', 'kidsandfamily', 'animation', 'adventure', 'comedy'], ['drama', 'comedy'], ['drama'], ['adventure', 'mysteryandthriller', 'action'], ['musical', 'kidsandfamily', 'fantasy'], ['drama', 'comedy', 'crime'], ['horror', 'mysteryandthriller', 'comedy'], ['drama', 'crime'], ['adventure', 'action'], ['fantasy', 'comedy', 'kidsandfamily', 'animation', 'adventure', 'action'], ['drama'], ['drama'], ['drama', 'music', 'romance'], ['adventure', 'action', 'fantasy'], ['drama', 'war', 'history'], ['comedy', 'fantasy', 'kidsandfamily', 'animation'], ['drama', 'comedy'], ['horror', 'mysteryandthriller'], ['comedy'], ['drama', 'comedy'], ['romance'], ['comedy'], ['comedy'], ['drama'], ['mysteryandthriller'], ['music', 'kidsandfamily', 'animation', 'adventure', 'comedy'], ['fantasy', 'comedy', 'scifi', 'adventure', 'action'], ['fantasy', 'romance'], ['drama', 'history'], ['drama'], ['drama', 'crime'], ['drama', 'war'], ['drama', 'scifi', 'mysteryandthriller'], ['comedy', 'musical'], ['fantasy', 'animation', 'kidsandfamily'], ['fantasy', 'adventure', 'action'], ['horror'], ['drama', 'crime'], ['drama', 'comedy'], ['romance'], ['fantasy', 'adventure', 'action', 'comedy'], ['adventure', 'scifi', 'kidsandfamily'], ['fantasy', 'adventure', 'scifi', 'action'], ['drama'], ['drama', 'mysteryandthriller', 'crime'], ['drama', 'comedy'], ['adventure', 'kidsandfamily', 'comedy']]\n",
      "['it was absolutely appaling i have never been more bored or ashamed of marvel in my entire life dreadful movie would never watch again or recommend', 'i dont know how everyone at marvel pulled this off but im so glad that they did as a huge marvel fan this movie was perfect and i couldnt be happier the cast was great  the russos have directed my favourite marvel movies  the action was great as well captain america is my favourite superhero ever  and to see how perfectly they wrapped his story was very gratifying  this movie was everything i had hoped for and more well done to everyone at marvel for the amazing work over the last 12 years  im looking forward to where the mcu goes from here', 'wow this film is very scary amazing in every way and extremely psychological good job to director jordan peele', 'this score is definitely too high i was extremely disappointed with toy story 4 there was no point for it it ended perfectly with 3 all happy and together 4 erases everything the other movies are about and was like screw your friends and screw the child i just want to date this chick', 'i enjoyed this film and would recommend but it was just a bit slow it ticked along at just about the pace to hold my interest but only just any slower and i would have given up and read my book i loved lady birds character i fully believed that she was a slightly troubled confused teenager going through things weve all been through and some parts made me laugh it made me think of my relationships with my daughters and how they might be when my girls become teenagers i cant say the music or cinematography were overly memorable but it all seems to fit together nicely an overall nice film', 'my sound was messed up halfway through but pretty incredible this movie was made in the 40s', 'best action movie ever hands down', 'still fun even 81 years later', 'is an incredible insight into the civil rights movement in the usa and cop struggling to play both sides', 'i was freaked out i cheered i laughed i wss on the edge of my seat what a ride', 'a very interesting very long story its worth the watch i recommend a break in the middle of the movie', 'one of the best action movies of all time', 'seeing this film was an absolute phenomenal experience i will not forget i had no reoubme picking out my seat for the showtime and was able to enjoy my viewing with the comfortable chairs and food that exceeded my tastebuds satisfaction', 'this classic never gets old  a definite must see for any movie buff', 'ali is the best part of the movie disappointing to see him leave so early on the plot is a bit uninteresting i believe its an overrated movie life im sure some could relate to though so props to that', 'was this autobiographical of lady gaga no it is the fourth filmed version of the 1937 film after the 1954 musical and the 1976 musical\\nwinner for best original song in the 91st oscars for shallow', 'wonder woman stars the stunning gal gadot on the big screen  as a kid i fell in love with linda carter as wonder woman on the small screen i got to watch this movie with my son for the second time and of all the dc movies this one stands out on his own  patty jenkins was at the helm with this one and her visual direction gave this visually stunning flick a fighting chance  the acting was subpar but the storyline was compelling putting mythical gods on the map  chris pine was not a convincing british spy without an accent which gave the movie one less star  robin wright portrayed gadots aunt who taught her everything to be the superhero that she became the story brings wonder woman out of the amazon during wwi to help protect those that cant protect themselves  i also found the computer fighting sequences to be less stunning and not very appealing but knowing that gadot was pregnant during filming i would say it did its job  i would recommend this one it was good to watch again', 'chris nolan does it again he make a normal ww2 movie so twisty with the different timelines it brings such tension and excitement the historical speech everyone knows at the end was moving as well', 'i missed my imaginary friend', 'a tender loving story that is filled with life although the subject matter is enough to make you sad it is handled with care by director lulu wang it is sad but just the right amount of humorous it is an understated movie in many ways but incredibly powerful highlighting the limited time that we have on this planet and the ways that we should spend it definite mustwatch', 'movie was dope excited for part 2', 'tiempos modernos modern times es un largometraje de drama y comedia estrenado en el año de 1936 y que fue escrita dirigida y protagonizada por charles chaplin siendo esta cinta una de las pocas en las que se puede escuchar claramente la voz del actor constituyendo así una mezcla muy entretenida entre el cine mudo y el cine sonoro\\nla película tiene como protagonistas principales a charles chaplin quien interpreta el personaje de un explotado trabajador industrial y a paulette goddard que hace el papel de una chica huérfana con la que chaplin se encontrará y pasaran ciertas aventuras juntos sin embargo tendrán que enfrentarse ante una sociedad industrializada llena de problemas personas y exigencias que no los dejaran cumplir sus sueños y fantasías de una vida feliz\\nsi bien el filme no cuenta con la personificación de un antagonista como tal se podría decir que chaplin busca proyectar que el verdadero enemigo de los personajes es el sistema capitalista y a base de las maquinas en el que viven siendo esto lo que provoca que los trabajadores sean explotados hasta más no poder para así arruinar sus vidas siendo abordado en el filme de una manera cómica cuando el protagonista es hospitalizado\\nen este sentido se podría decir que la película se desarrolla posiblemente entre los años después del gran crack de 1929 en los estados unidos una época en la cual muchos empleados quedaron sin trabajo y tuvieron que verse en situaciones difíciles para sobrevivir dejando muchas veces su felicidad a un lado \\nesto se menciona porque dentro del filme se ven diferentes hechos en los que los trabajadores realizan manifestaciones en busca de libertad y de sus derechos laborales pero que son oprimidos por la policía e incluso se puede observar como las demandas de trabajo son inmensas y que si no tienen la suerte necesaria o alguna referencia de otras personas se vuelve difícil tener una oportunidad \\npor lo que el punto central de los personajes se basa en la búsqueda de la felicidad pero que de acuerdo a lo que les ha hecho creer la sociedad es que para conseguir esa felicidad necesitan dinero y que para tener dinero necesitan trabajar ardua e incansablemente un mensaje que se desarrolla a lo largo de la película pero que no resulta pesado o aburrido\\ny que es una cinta que no posee sorprendentes detalles estéticos gusta entretiene y transmite el mensaje sutilmente gracias a la interpretación cómica y a base de gestos con los que actúa charles chaplin quien es también fue el encargado de realizar el sonido para la película\\nen relación a esto es sorprende que si bien el filme no cuenta con diálogos como tal para impulsar el mensaje sino solo frases sueltas en ciertos momentos la sonorización y los efectos de sonido cumplen el papel de transmitir las emociones y sensaciones al público junto a las actuaciones por lo que el sonido va más allá de solo ambientar sino que funciona como complemento de la idea general que se busca transmitir \\nen este aspecto se vuelve interesante la apuesta que se hace entre el cine sonoro y el cine mudo ya que constituyen una mezcla de dos momentos importantes para el desarrollo de este arte así mismo da curiosidad pensar sobre el impacto que tuvo esta película de drama y comedia en las personas de ese tiempo \\nademás esta es una cinta que se desarrolla a las puertas de una segunda guerra mundial y después de una crisis económica por lo que de alguna manera la película es bastante revolucionaria tanto técnicamente como en el mensaje que busca transmitir ya que incluso hasta estas fechas los temas que aborda siguen teniendo vigencia o son bastante similares a los que se ilustran en la historia\\nuna historia que se presenta de una forma bastante interesante ya que desde las primeras escenas se puede ver como el director intenta hacer una comparación entre los animales y los humanos al mostrar imágenes de cerdos que se desvanecen sobre una toma con personas \\nde esta manera la película logra conectar y contar una historia fluida de una ficción de la realidad abordada desde la diversión con un guión que se basa solo en la presentación de los personajes sin profundizar tanto en lo que ellos y enfrascándose en lo que ellos buscan del mundo\\nuna historia que prevalece a pesar de ser tiempos modernos diferentes y que muestra que muchos problemas solo se siguen repitiendo una y otra vez a lo largo del tiempo sin embargo al final de la película el director logra transmitir el mensaje que posiciona el amor sobre todo ya que a pesar de no tener nada ambos personajes se tienen el uno para el otro apoyándose mutuamente y sobreviviendo juntos\\ntiempos modernos fue y sigue siendo una película bastante adelantada a su tiempo con respecto a la forma con la que chaplin logra transmitir el mensaje esto porque su producto entretiene y hasta estas sigue haciéndolo gracias a su uso de la comedia y su forma de narrar la historia de una cinta que fue estrenada en 1936 por lo que es importante hacer una reflexión individual sobre hacia a donde vamos nosotros como personas dentro de una sociedad llena de exigencias y ante revoluciones industriales y tecnológicas', 'a unique coming of age film set in the modern world awkward but touching', 'afi 100 greatest films  35 this is a film i knew nothing about and went into this with only the very short description on the tcm listing as background knowledge the brief synopsis under the title listing made this film sound more like a mysterysuspense when i read it so i was surprised and thrown off by the quirky and playful tone early into the picture not realizing i was actually watching one of the original romcoms it isnt hard to see why this was the first film to take home the big four at the academy awards as the directing and acting from the two leads was so in sync and i imagine quite groundbreaking for that time as elements of this film are still seen prevalently in romantic comedies today definitely not my favorite film or genre but one definitely that would be hard not to appreciate and respect', 'a great movie that deals with teenage life if you have a teenager watch this movie with them', 'i watch duck soup and promised myself id never watch another marx brothers film got my arm twisted into watching this its way better more engaging plot but the jokes and japes are just not funny the marx brothers humour clearly just isnt for me', 'puede ser una obra realmente visual elaborada en blanco y negro lo que lo hace artística hace referencias en la época de los 70s de igual manera tienes tomas muy buenas incluso adentrándose más allá de la orilla del mar lo cual es poco frecuente en las películas no obstante las escenas de proyección se efectúan con mucho tiempo regresando a las filmaciones de antaños en las que las tomas duran mucho en un close up y en esta película el lavar un piso dura 5 minutos las nuevas películas ya no hacen uso de ese recurso lo que lo hace que no esté actualizada  se necesitan historias nutridas en contexto y está quedó fuera de proporción es una historia sencilla y llana la llaman ahora obra de arte hay historias de madres solteras de bajos recursos que son de gran admiración la actuación es regular no despierta mayor interés para terminar una película buena con contenido te despierta  interés y subes excepcional las vez varias veces aunncuando ya sabes en qué termina en este caso con una vez de haberla visto es más que suficiente y entender de que se trata   espero no herir suseptibilidades y entiendo el esfuerzo por parte de todo el equipo de producción para poder elaborar una película pero también es importante lo que nos quieren comunicar y por dedicar el tiempo que tomamos para ver dicha película por lo cual sugiero lo tomen como crítica constructiva a efecto de mejorar saludos', 'a quirky joy unique even hover half a century later with solid characters mystery progression and atmospheric noir tone all made fresh with the bizarre usage of a ukulele in the soundtrack 9510', 'just beautiful i dont remeber if i cried so much because of a movie its warming your heart and soul', 'thor in the comics was probably my least favourite hero but in the marvel universe of movies hes become one of my favourite characters to watch as he is equal parts mighty and pretty subtly hilarious \\nthe third film in the thor series is my favourite as it mixes great action with the quirky comedy of director taika waititi who also voices a pretty fun character add in a giant sized comic book worthy face off against the hulk and a pinch of jeff goldblum and its impossible not to be thoroughly entertained', 'although parts of the story line are far fetched human female has sex with slimey aquetic creature the film has obviously been influenced by those 1950s horrorscifi films the acting is good michael shannon is particularly menacing the pace does not waiver whether it is a worthy oscar winner is debatable', 'except for the portrayal of lyndon b johnson this was an exceptional film david oyelowo is incredible as martin luther king jr that its shocking to believe he wasnt nominated for an oscar', 'spotlight is surprisingly a very well made movie though much of the movie is talking and investigation it finds a way to really grip you into wanting to know the truth as much as the team does such a crazy story cant believe it happened everywhere the entire cast gave out amazing performances interesting film', 'the essential mob movie that centralized the genre in hollywood forever francis ford coppolas the godfather showcases all film elements to its maximum from the screenplay acting as well as cinematography quite possibly casting marlon brando as don corleone is equally legendary as casting humphrey bogart as sam spade marlon brandos portrayal as corleone is individualized and personal with limited support to bring it from pages in a book to film al pacino robert duvall as well as the other supporting actors is hollywoods legendary cast ever to be put to film together this movie stands the test of time and should be used to teach in film school as to what the art of making a film is', 'this is a lyrical and deeply humane story of prisoners their captors and their escape of the end of the old european order and its aristocracy of the deep goodness inside individuals and in spite of that goodness of the madness of our societies  it is a film clearly against war and nationalism and renoir paints a loving picture of both aristocrats and commoners  eric von stroheims performance is indelible unforgettable', 'the whole cast are terrific but amy adams is outstanding a must for any scifi fan', 'singin in the rain is the best musical ever made even by todays standards the production and talent is unparalleled you cant call yourself a film buff if you havent seen this movies the main score of singin in the rain when gene kelly is dancing down the street so in love that he doesnt mind the down pour is enough to touch anyones heart this movie will always remain one of my alltime favorites and a great hollywood masterpiece', 'i am in aw every time i watch this movie i still dont know how they made this incredible animated movie in 1937', 'shallow and empty by the end this movie was as full of plotholes as logan was of actual holes the only thing i wanted to know is what was killing logan and what dr xavier did that messed everything up the answer to the first is lame and there isnt even an answer to the second because they hope their audience will just fill in the gap lazy i went in this ready to love it i came out wondering what the fuck i wasted 2 hours on', 'this classic is worth watching  the dvd i saw also had a german documentary about their film history  dr c is more than terror its about cultural shift', 'this is where the blueprint of the greedy unscrupulous wife originated\\ndouble indemnity has been imitated but never properly duplicated\\n\\none of the great billy wilders best films it never quite reached the level of recognition it probably deserved it never won an academy award its actors were at the time felt to be miscast\\n\\nand now over 75 years after its making it appears obvious that double indemnity cannot possibly be remade to capture the essence of what it was', 'i want to tell you a little bit about this movieits such a thought provoking filmqueen anne was the first ruler of the newly united great britain in the early 1700s the last stuart monarch before the hanoverian dynasty thats still with us god save the queenso theres your story\\nhere the widowed childless semiinvalid anne is a lonely eccentric figure stuck in the gilded cage of her palace who leaves the managing of national affairs to her childhood friend the formidable sarah churchill\\nsarah is the wife of john churchill head of the armed forces and of another dynasty thats still with us the duke of marlborough as john is also known is off fighting the french comme de tradition and one of sarahs jobs is to bully parliament into keeping his war funded\\nsarah then is pretty much in charge until the arrival of a impoverished cousin abigail who seeks work as a servant abigail then sets about working her way up the hierarchy all the way to the queens bedchamber\\nyet overall the favourite is an extremely boring film thats poorly made unfortunately not as weird as what ive come to expect from lanthimos but still compelling gorgeous and irreverent even darkly funny by timesthis witty complexpowerful bawdy and occasionally absurdist story of court politics is great fun despite some gratingly annoying music\\nbut in some places there is very slow movement which is very annoying\\nand probably accurate at least in showing how fragile both power and social status were in that era but i would recommend watching this one because its very breathtaking film', 'it took me a little while to get into it but it eventually pulled me in and i laughed several times i went into it without knowing much beforehand and i had no idea it was based on the reallife story of the lead actor until the pictures at the end i thought ray romano was particularly great in this it has some charm to it', 'very fun to watch i like how this is similiar to the spiderman from the comic a fresh movie to watch', 'a classic in its own right et has everything a family movie needs and more', 'it was flashy but i liked less the more i thought about it', 'the dialog in these older films is always pretty good eve was really sketchy from the get go here but they didnt give it enough legs as to what she may be up to the films didnt really pick up till the final act and it was all like blam blackmail deceit back stabbing its like 23 of a movie about one thing and then the final 13 they make it about what they said it was all about  if its all about eve they should have made it all about eve', 'pretty solid psychological thriller that reminds me of what has macabrely fascinated me since i can remember the more recent real life occurrences where a family member discover their seemingly normal relation is living a double life as a monster no surprise hitchcock recognized and tapped into the horrific implications of this family member being forced to acknowledge the suspicions that because of familial love they are naturally attempting every logistical process to internally dismiss 7510', 'with all the charisma and talent of charles chaplin playing his iconic character the tramp and jackie coogans endearing and tender performance the kid is a hilarious classic that has a great and sweet dramatic balance 55  1010', 'it was very good better than the first at times but noticeably blander in others charming though and a delight to watch 8510 recommended']\n"
     ]
    }
   ],
   "source": [
    "#Rotten_list[title] = []\n",
    "#Rotten_list[title] = {'link': review_links, 'genre': genre_lst_rot, 'reviews': tag_lst}\n",
    "#print(Rotten_list[title])\n",
    "print(review_links)\n",
    "print(genre_lst_rot)\n",
    "print(tag_lst)"
   ]
  },
  {
   "cell_type": "code",
   "execution_count": 12,
   "metadata": {},
   "outputs": [],
   "source": [
    "fields = ['Link', 'Genre', 'Reviews']  \n",
    "rows = [review_links, genre_lst_rot, tag_lst]\n",
    "filename = \"records.csv\"\n",
    "with open(filename, 'w') as csvfile:  \n",
    "    # creating a csv writer object  \n",
    "    csvwriter = csv.writer(csvfile)  \n",
    "        \n",
    "    # writing the fields  \n",
    "    csvwriter.writerow(fields)  \n",
    "        \n",
    "    # writing the data rows  \n",
    "    csvwriter.writerows(rows) "
   ]
  },
  {
   "cell_type": "code",
   "execution_count": 21,
   "metadata": {},
   "outputs": [
    {
     "name": "stdout",
     "output_type": "stream",
     "text": [
      "['absolutely', 'appaling', 'never', 'bored', 'ashamed', 'marvel', 'entire', 'life', 'dreadful', 'movie', 'would', 'never', 'watch', 'recommend', 'dont', 'know', 'everyone', 'marvel', 'pulled', 'glad', 'huge', 'marvel', 'fan', 'movie', 'perfect', 'couldnt', 'happier', 'cast', 'great', 'russos', 'directed', 'favourite', 'marvel', 'movies', 'action', 'great', 'well', 'captain', 'america', 'favourite', 'superhero', 'ever', 'see', 'perfectly', 'wrapped', 'story', 'gratifying', 'movie', 'everything', 'hoped', 'well', 'done', 'everyone', 'marvel', 'amazing', 'work', 'last', '12', 'years', 'looking', 'forward', 'mcu', 'goes', 'disapointed', 'great', 'performances', 'actors', 'yes', 'understand', 'peele', 'trying', 'convey', 'left', 'feeling', 'utterly', 'disapointed', 'score', 'definitely', 'high', 'extremely', 'disappointed', 'toy', 'story', '4', 'point', 'ended', 'perfectly', '3', 'happy', 'together', '4', 'erases', 'everything', 'movies', 'like', 'screw', 'friends', 'screw', 'child', 'date', 'chick', 'enjoyed', 'film', 'would', 'recommend', 'bit', 'slow', 'ticked', 'along', 'pace', 'hold', 'interest', 'slower', 'would', 'given', 'read', 'book', 'loved', 'lady', 'birds', 'character', 'fully', 'believed', 'slightly', 'troubled', 'confused', 'teenager', 'going', 'things', 'weve', 'parts', 'made', 'laugh', 'made', 'think', 'relationships', 'daughters', 'might', 'girls', 'become', 'teenagers', 'cant', 'say', 'music', 'cinematography', 'overly', 'memorable', 'seems', 'fit', 'together', 'nicely', 'overall', 'nice', 'film', 'sound', 'messed', 'halfway', 'pretty', 'incredible', 'movie', 'made', '40s', 'best', 'action', 'movie', 'ever', 'hands', 'still', 'fun', 'even', '81', 'years', 'later', 'incredible', 'insight', 'civil', 'rights', 'movement', 'usa', 'cop', 'struggling', 'play', 'sides', 'freaked', 'cheered', 'laughed', 'wss', 'edge', 'seat', 'ride', 'interesting', 'long', 'story', 'worth', 'watch', 'recommend', 'break', 'middle', 'movie', 'best', 'action', 'movies', 'time', 'seeing', 'film', 'absolute', 'phenomenal', 'experience', 'forget', 'reoubme', 'picking', 'seat', 'showtime', 'able', 'enjoy', 'viewing', 'comfortable', 'chairs', 'food', 'exceeded', 'tastebuds', 'satisfaction', 'classic', 'never', 'gets', 'old', 'definite', 'must', 'see', 'movie', 'buff', 'best', 'part', 'movie', 'disappointing', 'see', 'leave', 'early', 'plot', 'bit', 'uninteresting', 'believe', 'overrated', 'movie', 'life', 'sure', 'could', 'relate', 'though', 'props', 'autobiographical', 'lady', 'gaga', 'fourth', 'filmed', 'version', '1937', 'film', '1954', 'musical', '1976', 'musical', 'winner', 'best', 'original', 'song', '91st', 'oscars', 'shallow', 'wonder', 'woman', 'stars', 'stunning', 'gal', 'gadot', 'big', 'screen', 'kid', 'fell', 'love', 'linda', 'carter', 'wonder', 'woman', 'small', 'screen', 'got', 'watch', 'movie', 'second', 'time', 'dc', 'movies', 'stands', 'patty', 'jenkins', 'helm', 'visual', 'direction', 'gave', 'visually', 'stunning', 'flick', 'fighting', 'chance', 'acting', 'subpar', 'storyline', 'compelling', 'putting', 'mythical', 'gods', 'map', 'chris', 'pine', 'convincing', 'british', 'spy', 'without', 'accent', 'gave', 'movie', 'less', 'star', 'robin', 'wright', 'portrayed', 'gadots', 'aunt', 'taught', 'everything', 'superhero', 'became', 'story', 'brings', 'wonder', 'woman', 'amazon', 'wwi', 'help', 'protect', 'cant', 'protect', 'found', 'computer', 'fighting', 'sequences', 'less', 'stunning', 'appealing', 'knowing', 'gadot', 'pregnant', 'filming', 'would', 'say', 'job', 'would', 'recommend', 'good', 'watch', 'chris', 'nolan', 'make', 'normal', 'ww2', 'movie', 'twisty', 'different', 'timelines', 'brings', 'tension', 'excitement', 'historical', 'speech', 'everyone', 'knows', 'moving', 'well', 'missed', 'imaginary', 'friend', 'tender', 'loving', 'story', 'filled', 'life', 'although', 'subject', 'matter', 'enough', 'make', 'sad', 'handled', 'director', 'lulu', 'wang', 'sad', 'right', 'amount', 'humorous', 'understated', 'movie', 'many', 'ways', 'incredibly', 'powerful', 'highlighting', 'limited', 'time', 'planet', 'ways', 'spend', 'definite', 'mustwatch', 'movie', 'dope', 'excited', 'part', '2', 'tiempos', 'modernos', 'modern', 'times', 'largometraje', 'drama', 'comedia', 'estrenado', 'año', '1936', 'escrita', 'dirigida', 'protagonizada', 'charles', 'chaplin', 'siendo', 'cinta', 'pocas', 'puede', 'escuchar', 'claramente', 'voz', 'actor', 'constituyendo', 'así', 'mezcla', 'entretenida', 'mudo', 'sonoro', 'película', 'protagonistas', 'principales', 'charles', 'chaplin', 'interpreta', 'personaje', 'explotado', 'trabajador', 'industrial', 'paulette', 'goddard', 'hace', 'papel', 'chica', 'huérfana', 'chaplin', 'encontrará', 'pasaran', 'ciertas', 'aventuras', 'juntos', 'embargo', 'enfrentarse', 'sociedad', 'industrializada', 'llena', 'problemas', 'personas', 'exigencias', 'dejaran', 'cumplir', 'sueños', 'fantasías', 'vida', 'feliz', 'bien', 'filme', 'cuenta', 'personificación', 'antagonista', 'tal', 'podría', 'decir', 'chaplin', 'busca', 'proyectar', 'verdadero', 'enemigo', 'personajes', 'sistema', 'capitalista', 'base', 'maquinas', 'viven', 'siendo', 'provoca', 'trabajadores', 'explotados', 'poder', 'así', 'arruinar', 'vidas', 'siendo', 'abordado', 'filme', 'manera', 'cómica', 'protagonista', 'hospitalizado', 'podría', 'decir', 'película', 'desarrolla', 'posiblemente', 'años', 'después', 'gran', 'crack', '1929', 'unidos', 'época', 'empleados', 'quedaron', 'trabajo', 'verse', 'situaciones', 'difíciles', 'sobrevivir', 'dejando', 'muchas', 'veces', 'felicidad', 'lado', 'menciona', 'dentro', 'filme', 'ven', 'diferentes', 'hechos', 'trabajadores', 'realizan', 'manifestaciones', 'busca', 'libertad', 'derechos', 'laborales', 'oprimidos', 'policía', 'incluso', 'puede', 'observar', 'demandas', 'trabajo', 'inmensas', 'suerte', 'necesaria', 'alguna', 'referencia', 'personas', 'vuelve', 'difícil', 'tener', 'oportunidad', 'punto', 'central', 'personajes', 'basa', 'búsqueda', 'felicidad', 'acuerdo', 'hecho', 'creer', 'sociedad', 'conseguir', 'felicidad', 'necesitan', 'dinero', 'tener', 'dinero', 'necesitan', 'trabajar', 'ardua', 'incansablemente', 'mensaje', 'desarrolla', 'largo', 'película', 'resulta', 'pesado', 'aburrido', 'cinta', 'posee', 'sorprendentes', 'detalles', 'estéticos', 'gusta', 'entretiene', 'transmite', 'mensaje', 'sutilmente', 'gracias', 'interpretación', 'cómica', 'base', 'gestos', 'actúa', 'charles', 'chaplin', 'encargado', 'realizar', 'sonido', 'película', 'relación', 'sorprende', 'bien', 'filme', 'cuenta', 'diálogos', 'tal', 'impulsar', 'mensaje', 'sino', 'solo', 'frases', 'sueltas', 'ciertos', 'momentos', 'sonorización', 'efectos', 'sonido', 'cumplen', 'papel', 'transmitir', 'emociones', 'sensaciones', 'público', 'junto', 'actuaciones', 'sonido', 'allá', 'solo', 'ambientar', 'sino', 'funciona', 'complemento', 'idea', 'general', 'busca', 'transmitir', 'aspecto', 'vuelve', 'interesante', 'apuesta', 'hace', 'sonoro', 'mudo', 'constituyen', 'mezcla', 'momentos', 'importantes', 'desarrollo', 'arte', 'así', 'mismo', 'curiosidad', 'pensar', 'impacto', 'película', 'drama', 'comedia', 'personas', 'tiempo', 'además', 'cinta', 'desarrolla', 'puertas', 'segunda', 'guerra', 'mundial', 'después', 'crisis', 'económica', 'alguna', 'manera', 'película', 'bastante', 'revolucionaria', 'técnicamente', 'mensaje', 'busca', 'transmitir', 'incluso', 'fechas', 'temas', 'aborda', 'siguen', 'vigencia', 'bastante', 'similares', 'ilustran', 'historia', 'historia', 'presenta', 'forma', 'bastante', 'interesante', 'primeras', 'escenas', 'puede', 'ver', 'director', 'intenta', 'hacer', 'comparación', 'animales', 'humanos', 'mostrar', 'imágenes', 'cerdos', 'desvanecen', 'toma', 'personas', 'manera', 'película', 'logra', 'conectar', 'contar', 'historia', 'fluida', 'ficción', 'realidad', 'abordada', 'diversión', 'guión', 'basa', 'solo', 'presentación', 'personajes', 'profundizar', 'enfrascándose', 'buscan', 'mundo', 'historia', 'prevalece', 'pesar', 'ser', 'tiempos', 'modernos', 'diferentes', 'muestra', 'problemas', 'solo', 'siguen', 'repitiendo', 'vez', 'largo', 'tiempo', 'embargo', 'final', 'película', 'director', 'logra', 'transmitir', 'mensaje', 'posiciona', 'amor', 'pesar', 'tener', 'ambos', 'personajes', 'apoyándose', 'mutuamente', 'sobreviviendo', 'juntos', 'tiempos', 'modernos', 'sigue', 'siendo', 'película', 'bastante', 'adelantada', 'tiempo', 'respecto', 'forma', 'chaplin', 'logra', 'transmitir', 'mensaje', 'producto', 'entretiene', 'sigue', 'haciéndolo', 'gracias', 'uso', 'comedia', 'forma', 'narrar', 'historia', 'cinta', 'estrenada', '1936', 'importante', 'hacer', 'reflexión', 'individual', 'hacia', 'vamos', 'personas', 'dentro', 'sociedad', 'llena', 'exigencias', 'revoluciones', 'industriales', 'tecnológicas', 'unique', 'coming', 'age', 'film', 'set', 'modern', 'world', 'awkward', 'touching', 'afi', '100', 'greatest', 'films', '35', 'film', 'knew', 'nothing', 'went', 'short', 'description', 'tcm', 'listing', 'background', 'knowledge', 'brief', 'synopsis', 'title', 'listing', 'made', 'film', 'sound', 'like', 'mysterysuspense', 'read', 'surprised', 'thrown', 'quirky', 'playful', 'tone', 'early', 'picture', 'realizing', 'actually', 'watching', 'original', 'romcoms', 'isnt', 'hard', 'see', 'first', 'film', 'home', 'big', 'four', 'academy', 'awards', 'directing', 'acting', 'two', 'leads', 'sync', 'imagine', 'quite', 'groundbreaking', 'time', 'elements', 'film', 'still', 'seen', 'prevalently', 'romantic', 'comedies', 'today', 'definitely', 'favorite', 'film', 'genre', 'definitely', 'would', 'hard', 'appreciate', 'respect', 'great', 'movie', 'deals', 'teenage', 'life', 'teenager', 'watch', 'movie', 'watch', 'duck', 'soup', 'promised', 'id', 'never', 'watch', 'another', 'marx', 'brothers', 'film', 'got', 'arm', 'twisted', 'watching', 'way', 'better', 'engaging', 'plot', 'jokes', 'japes', 'funny', 'marx', 'brothers', 'humour', 'clearly', 'isnt', 'puede', 'ser', 'obra', 'realmente', 'visual', 'elaborada', 'blanco', 'negro', 'hace', 'artística', 'hace', 'referencias', 'época', '70s', 'igual', 'manera', 'tomas', 'buenas', 'incluso', 'adentrándose', 'allá', 'orilla', 'frecuente', 'películas', 'obstante', 'escenas', 'proyección', 'efectúan', 'tiempo', 'regresando', 'filmaciones', 'antaños', 'tomas', 'duran', 'close', 'película', 'lavar', 'piso', 'dura', '5', 'minutos', 'nuevas', 'películas', 'hacen', 'uso', 'recurso', 'hace', 'actualizada', 'necesitan', 'historias', 'nutridas', 'contexto', 'quedó', 'proporción', 'historia', 'sencilla', 'llana', 'llaman', 'ahora', 'obra', 'arte', 'historias', 'madres', 'solteras', 'bajos', 'recursos', 'gran', 'admiración', 'actuación', 'regular', 'despierta', 'mayor', 'interés', 'terminar', 'película', 'buena', 'contenido', 'despierta', 'interés', 'subes', 'excepcional', 'vez', 'varias', 'veces', 'aunncuando', 'sabes', 'termina', 'caso', 'vez', 'haberla', 'visto', 'suficiente', 'entender', 'trata', 'espero', 'herir', 'suseptibilidades', 'entiendo', 'esfuerzo', 'parte', 'equipo', 'producción', 'poder', 'elaborar', 'película', 'importante', 'quieren', 'comunicar', 'dedicar', 'tiempo', 'tomamos', 'ver', 'dicha', 'película', 'sugiero', 'tomen', 'crítica', 'constructiva', 'efecto', 'mejorar', 'saludos', 'quirky', 'joy', 'unique', 'even', 'hover', 'half', 'century', 'later', 'solid', 'characters', 'mystery', 'progression', 'atmospheric', 'noir', 'tone', 'made', 'fresh', 'bizarre', 'usage', 'ukulele', 'soundtrack', '9510', 'beautiful', 'dont', 'remeber', 'cried', 'much', 'movie', 'warming', 'heart', 'soul', 'thor', 'comics', 'probably', 'least', 'favourite', 'hero', 'marvel', 'universe', 'movies', 'hes', 'become', 'favourite', 'characters', 'watch', 'equal', 'parts', 'mighty', 'pretty', 'subtly', 'hilarious', 'third', 'film', 'thor', 'series', 'favourite', 'mixes', 'great', 'action', 'quirky', 'comedy', 'director', 'taika', 'waititi', 'voices', 'pretty', 'fun', 'character', 'add', 'giant', 'sized', 'comic', 'book', 'worthy', 'hulk', 'pinch', 'jeff', 'goldblum', 'impossible', 'thoroughly', 'entertained', 'although', 'parts', 'story', 'line', 'far', 'fetched', 'human', 'female', 'sex', 'slimey', 'aquetic', 'creature', 'film', 'obviously', 'influenced', '1950s', 'horrorscifi', 'films', 'acting', 'good', 'michael', 'shannon', 'particularly', 'menacing', 'pace', 'waiver', 'whether', 'worthy', 'oscar', 'winner', 'debatable', 'except', 'portrayal', 'lyndon', 'b', 'johnson', 'exceptional', 'film', 'david', 'oyelowo', 'incredible', 'martin', 'luther', 'king', 'jr', 'shocking', 'believe', 'wasnt', 'nominated', 'oscar', 'spotlight', 'surprisingly', 'well', 'made', 'movie', 'though', 'much', 'movie', 'talking', 'investigation', 'finds', 'way', 'really', 'grip', 'wanting', 'know', 'truth', 'much', 'team', 'crazy', 'story', 'cant', 'believe', 'happened', 'everywhere', 'entire', 'cast', 'gave', 'amazing', 'performances', 'interesting', 'film', 'whoo', 'love', 'lots', 'lyrical', 'deeply', 'humane', 'story', 'prisoners', 'captors', 'escape', 'old', 'european', 'order', 'aristocracy', 'deep', 'goodness', 'inside', 'individuals', 'spite', 'goodness', 'madness', 'societies', 'film', 'clearly', 'nationalism', 'renoir', 'paints', 'loving', 'picture', 'aristocrats', 'commoners', 'eric', 'stroheims', 'performance', 'indelible', 'unforgettable', 'whole', 'cast', 'terrific', 'amy', 'adams', 'outstanding', 'must', 'scifi', 'fan', 'singin', 'rain', 'best', 'musical', 'ever', 'made', 'even', 'todays', 'standards', 'production', 'talent', 'unparalleled', 'cant', 'call', 'film', 'buff', 'havent', 'seen', 'movies', 'main', 'score', 'singin', 'rain', 'gene', 'kelly', 'dancing', 'street', 'love', 'doesnt', 'mind', 'enough', 'touch', 'anyones', 'heart', 'movie', 'always', 'remain', 'alltime', 'favorites', 'great', 'hollywood', 'masterpiece', 'aw', 'every', 'time', 'watch', 'movie', 'still', 'dont', 'know', 'made', 'incredible', 'animated', 'movie', '1937', 'shallow', 'empty', 'movie', 'full', 'plotholes', 'logan', 'actual', 'holes', 'thing', 'wanted', 'know', 'killing', 'logan', 'dr', 'xavier', 'messed', 'everything', 'answer', 'first', 'lame', 'isnt', 'even', 'answer', 'second', 'hope', 'audience', 'fill', 'gap', 'lazy', 'went', 'ready', 'love', 'came', 'wondering', 'fuck', 'wasted', '2', 'hours', 'classic', 'worth', 'watching', 'dvd', 'saw', 'german', 'documentary', 'film', 'history', 'dr', 'terror', 'cultural', 'shift', 'blueprint', 'greedy', 'unscrupulous', 'wife', 'originated', 'double', 'indemnity', 'imitated', 'never', 'properly', 'duplicated', 'great', 'billy', 'wilders', 'best', 'films', 'never', 'quite', 'reached', 'level', 'recognition', 'probably', 'deserved', 'never', 'academy', 'award', 'actors', 'time', 'felt', 'miscast', '75', 'years', 'making', 'appears', 'obvious', 'double', 'indemnity', 'possibly', 'remade', 'capture', 'essence', 'tell', 'little', 'bit', 'movieits', 'thought', 'provoking', 'filmqueen', 'anne', 'first', 'ruler', 'newly', 'united', 'great', 'britain', 'early', '1700s', 'last', 'stuart', 'monarch', 'hanoverian', 'dynasty', 'thats', 'still', 'us', 'god', 'save', 'queenso', 'theres', 'story', 'widowed', 'childless', 'semiinvalid', 'anne', 'lonely', 'eccentric', 'figure', 'stuck', 'gilded', 'cage', 'palace', 'leaves', 'managing', 'national', 'affairs', 'childhood', 'friend', 'formidable', 'sarah', 'churchill', 'sarah', 'wife', 'john', 'churchill', 'head', 'armed', 'forces', 'another', 'dynasty', 'thats', 'still', 'us', 'duke', 'marlborough', 'john', 'known', 'fighting', 'french', 'comme', 'tradition', 'sarahs', 'jobs', 'bully', 'parliament', 'keeping', 'funded', 'sarah', 'pretty', 'much', 'charge', 'arrival', 'impoverished', 'cousin', 'abigail', 'seeks', 'work', 'servant', 'abigail', 'sets', 'working', 'way', 'hierarchy', 'way', 'queens', 'bedchamber', 'yet', 'overall', 'favourite', 'extremely', 'boring', 'film', 'thats', 'poorly', 'made', 'unfortunately', 'weird', 'ive', 'expect', 'lanthimos', 'still', 'compelling', 'gorgeous', 'irreverent', 'even', 'darkly', 'funny', 'timesthis', 'witty', 'complexpowerful', 'bawdy', 'occasionally', 'absurdist', 'story', 'court', 'politics', 'great', 'fun', 'despite', 'gratingly', 'annoying', 'music', 'places', 'slow', 'movement', 'annoying', 'probably', 'accurate', 'least', 'showing', 'fragile', 'power', 'social', 'status', 'would', 'recommend', 'watching', 'breathtaking', 'film', 'took', 'little', 'get', 'eventually', 'pulled', 'laughed', 'several', 'times', 'went', 'without', 'knowing', 'much', 'beforehand', 'idea', 'based', 'reallife', 'story', 'lead', 'actor', 'pictures', 'thought', 'ray', 'romano', 'particularly', 'great', 'charm', 'fun', 'watch', 'like', 'similiar', 'spiderman', 'comic', 'fresh', 'movie', 'watch', 'classic', 'right', 'everything', 'family', 'movie', 'needs', 'flashy', 'liked', 'less', 'thought', 'dialog', 'older', 'films', 'always', 'pretty', 'good', 'eve', 'really', 'sketchy', 'get', 'go', 'didnt', 'give', 'enough', 'legs', 'may', 'films', 'didnt', 'really', 'pick', 'final', 'act', 'like', 'blam', 'blackmail', 'deceit', 'back', 'stabbing', 'like', '23', 'movie', 'thing', 'final', '13', 'make', 'said', 'eve', 'made', 'eve', 'pretty', 'solid', 'psychological', 'thriller', 'reminds', 'macabrely', 'fascinated', 'since', 'remember', 'recent', 'real', 'life', 'occurrences', 'family', 'member', 'discover', 'seemingly', 'normal', 'relation', 'living', 'double', 'life', 'monster', 'surprise', 'hitchcock', 'recognized', 'tapped', 'horrific', 'implications', 'family', 'member', 'forced', 'acknowledge', 'suspicions', 'familial', 'love', 'naturally', 'attempting', 'every', 'logistical', 'process', 'internally', 'dismiss', '7510', 'charisma', 'talent', 'charles', 'chaplin', 'playing', 'iconic', 'character', 'tramp', 'jackie', 'coogans', 'endearing', 'tender', 'performance', 'kid', 'hilarious', 'classic', 'great', 'sweet', 'dramatic', 'balance', '55', '1010', 'good', 'better', 'first', 'times', 'noticeably', 'blander', 'others', 'charming', 'though', 'delight', 'watch', '8510', 'recommended']\n"
     ]
    }
   ],
   "source": [
    "print(wordlist)"
   ]
  },
  {
   "cell_type": "code",
   "execution_count": 22,
   "metadata": {},
   "outputs": [
    {
     "name": "stdout",
     "output_type": "stream",
     "text": [
      "1728\n"
     ]
    }
   ],
   "source": [
    "word_count = 0\n",
    "for word in wordlist:\n",
    "        words = word.strip().split()            # for each line split words\n",
    "        word_count = word_count + len(words)\n",
    "print(word_count)"
   ]
  },
  {
   "cell_type": "code",
   "execution_count": 23,
   "metadata": {},
   "outputs": [],
   "source": [
    "set_wordlist = set(wordlist)"
   ]
  },
  {
   "cell_type": "code",
   "execution_count": 29,
   "metadata": {},
   "outputs": [],
   "source": [
    "#rows = [review_links, genre_lst_rot, tag_lst]\n",
    "import pandas as pd\n",
    "\n",
    "pd.DataFrame({'Links': review_links, 'Genre': genre_lst_rot, 'Reviews':tag_lst}).to_csv('abcd.csv', index=False)\n",
    "(pd.DataFrame({'Links': review_links, 'Genre': genre_lst_rot, 'Reviews':tag_lst}, columns=['Links','Genre','Reviews'])\n",
    "   .to_csv('abcd.csv', index=False))"
   ]
  },
  {
   "cell_type": "code",
   "execution_count": 41,
   "metadata": {},
   "outputs": [
    {
     "ename": "IndexError",
     "evalue": "list index out of range",
     "output_type": "error",
     "traceback": [
      "\u001b[1;31m---------------------------------------------------------------------------\u001b[0m",
      "\u001b[1;31mIndexError\u001b[0m                                Traceback (most recent call last)",
      "\u001b[1;32m<ipython-input-41-020ccf02e51d>\u001b[0m in \u001b[0;36m<module>\u001b[1;34m\u001b[0m\n\u001b[0;32m     10\u001b[0m     \u001b[0mmovie\u001b[0m \u001b[1;33m=\u001b[0m \u001b[0mmovie\u001b[0m\u001b[1;33m.\u001b[0m\u001b[0mrstrip\u001b[0m\u001b[1;33m(\u001b[0m\u001b[1;33m)\u001b[0m\u001b[1;33m\u001b[0m\u001b[1;33m\u001b[0m\u001b[0m\n\u001b[0;32m     11\u001b[0m     \u001b[0mmoviedata\u001b[0m \u001b[1;33m=\u001b[0m \u001b[0mmovie\u001b[0m\u001b[1;33m.\u001b[0m\u001b[0msplit\u001b[0m\u001b[1;33m(\u001b[0m\u001b[1;34m','\u001b[0m\u001b[1;33m)\u001b[0m\u001b[1;33m\u001b[0m\u001b[1;33m\u001b[0m\u001b[0m\n\u001b[1;32m---> 12\u001b[1;33m     \u001b[0mcur\u001b[0m\u001b[1;33m.\u001b[0m\u001b[0mexecute\u001b[0m\u001b[1;33m(\u001b[0m\u001b[0minsertcmd\u001b[0m\u001b[1;33m,\u001b[0m \u001b[1;33m(\u001b[0m\u001b[0mmoviedata\u001b[0m\u001b[1;33m[\u001b[0m\u001b[1;36m0\u001b[0m\u001b[1;33m]\u001b[0m\u001b[1;33m,\u001b[0m\u001b[0mmoviedata\u001b[0m\u001b[1;33m[\u001b[0m\u001b[1;36m1\u001b[0m\u001b[1;33m]\u001b[0m\u001b[1;33m,\u001b[0m\u001b[0mmoviedata\u001b[0m\u001b[1;33m[\u001b[0m\u001b[1;36m2\u001b[0m\u001b[1;33m]\u001b[0m\u001b[1;33m)\u001b[0m\u001b[1;33m)\u001b[0m\u001b[1;33m\u001b[0m\u001b[1;33m\u001b[0m\u001b[0m\n\u001b[0m\u001b[0;32m     13\u001b[0m     \u001b[0mconn\u001b[0m\u001b[1;33m.\u001b[0m\u001b[0mcommit\u001b[0m\u001b[1;33m(\u001b[0m\u001b[1;33m)\u001b[0m\u001b[1;33m\u001b[0m\u001b[1;33m\u001b[0m\u001b[0m\n\u001b[0;32m     14\u001b[0m \u001b[0mcur\u001b[0m\u001b[1;33m.\u001b[0m\u001b[0mclose\u001b[0m\u001b[1;33m(\u001b[0m\u001b[1;33m)\u001b[0m\u001b[1;33m\u001b[0m\u001b[1;33m\u001b[0m\u001b[0m\n",
      "\u001b[1;31mIndexError\u001b[0m: list index out of range"
     ]
    }
   ],
   "source": [
    "import sqlite3\n",
    "conn = sqlite3.connect('MovieReviewDatabase.sqlite')\n",
    "cur = conn.cursor()\n",
    "cur.execute('DROP TABLE IF EXISTS MovieReviewTable_Rot')\n",
    "cur.execute('CREATE TABLE MovieReviewTable_Rot (Links VARCHAR(255), Genre VARCHAR(255), Reviews VARCHAR(255))')\n",
    "moviefilehandle = open('abcd.csv','r')\n",
    "insertcmd = 'INSERT INTO MovieReviewTable_Rot (Links, Genre, Reviews) VALUES (?,?,?)'\n",
    "\n",
    "for movie in moviefilehandle:\n",
    "    movie = movie.rstrip()\n",
    "    moviedata = movie.split(',')\n",
    "    cur.execute(insertcmd, (moviedata[0],moviedata[1],moviedata[2]))\n",
    "    conn.commit()\n",
    "cur.close()\n",
    "moviefilehandle.close()\n",
    "\n",
    "cur = conn.cursor()\n",
    "print(\"MovieReviewTable_Rot: \")\n",
    "cur.execute('SELECT Links, Genre, Reviews FROM MovieReviewTable_Rot')\n",
    "for row in cur:\n",
    "    print(row)\n",
    "\n",
    "cur.close()\n"
   ]
  },
  {
   "cell_type": "code",
   "execution_count": null,
   "metadata": {},
   "outputs": [],
   "source": []
  }
 ],
 "metadata": {
  "kernelspec": {
   "display_name": "Python 3",
   "language": "python",
   "name": "python3"
  },
  "language_info": {
   "codemirror_mode": {
    "name": "ipython",
    "version": 3
   },
   "file_extension": ".py",
   "mimetype": "text/x-python",
   "name": "python",
   "nbconvert_exporter": "python",
   "pygments_lexer": "ipython3",
   "version": "3.7.3"
  }
 },
 "nbformat": 4,
 "nbformat_minor": 2
}
